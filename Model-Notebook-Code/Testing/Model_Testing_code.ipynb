{
  "cells": [
    {
      "cell_type": "code",
      "execution_count": null,
      "metadata": {
        "id": "bz70ZDSrIkyO"
      },
      "outputs": [],
      "source": [
        "import matplotlib.pyplot as plt\n",
        "import numpy as np\n",
        "import pandas as pd\n",
        "import torch\n",
        "import torch.nn as nn\n",
        "import torch.optim as optim\n",
        "import torchvision\n",
        "import torchvision.models as models\n",
        "import torchvision.transforms as transforms\n",
        "import time\n",
        "import os\n",
        "import progressbar\n",
        "import PIL.Image as Image\n",
        "from IPython.display import display\n",
        "import warnings\n",
        "warnings.filterwarnings(\"ignore\")\n",
        "device = torch.device(\"cuda:0\" if torch.cuda.is_available() else \"cpu\")\n",
        "print(device)"
      ]
    },
    {
      "cell_type": "code",
      "execution_count": null,
      "metadata": {
        "id": "OfFAQm0CwFZF"
      },
      "outputs": [],
      "source": [
        "!unzip testset3.zip | wc -l"
      ]
    },
    {
      "cell_type": "code",
      "source": [
        "MODEL = \"model_v4.pt\"\n",
        "TEST_DATASET = \"/content/testset3/\""
      ],
      "metadata": {
        "id": "kGhxl84FVPPv"
      },
      "execution_count": null,
      "outputs": []
    },
    {
      "cell_type": "code",
      "execution_count": null,
      "metadata": {
        "id": "YQbxaZTyI7nk"
      },
      "outputs": [],
      "source": [
        "uniqueCars = ['chevrolet corvette', 'porsche 911 Turbo', 'ford mustang GT']\n",
        "\n",
        "hashMap = {}\n",
        "\n",
        "def EvaluateModel(model):\n",
        "    hashMap[\"classic_cars\"] = {\"correct\" : 0, \"incorrect\" : 0}\n",
        "    widgets = ['[', progressbar.Timer(format= 'elapsed time: %(elapsed)s'), ']',\n",
        "      progressbar.Bar('*'),\n",
        "    ]\n",
        "  \n",
        "    bar = progressbar.ProgressBar(max_value=292, widgets=widgets).start()\n",
        "    correct = 0.0\n",
        "    total = 0.0\n",
        "    count = 0\n",
        "    with torch.no_grad():\n",
        "        for i, data in enumerate(testloader, 0):\n",
        "            images, labels = data\n",
        "            fname, _ = testloader.dataset.samples[i]\n",
        "            \n",
        "            file_data = fname.split('/')\n",
        "            CLASS, IMAGE_DATA = file_data[-2], file_data[-1]\n",
        "            IMAGE_DATA = IMAGE_DATA.split(\"_\")[:-1]\n",
        "\n",
        "            #labels = torch.Tensor([int(data_class[CLASS.lower()])])\n",
        "  \n",
        "            count += 1\n",
        "            # assigning to GPU\n",
        "            images = images.to(device)\n",
        "            labels = labels.to(device)\n",
        "            \n",
        "            outputs = model(images)\n",
        "            _, predicted = torch.max(outputs, 1)\n",
        "            total += labels.size(0)\n",
        "            correct += (predicted == labels).sum().item()\n",
        "\n",
        "            if (predicted == labels.sum()) == 1:\n",
        "              for category in IMAGE_DATA:\n",
        "                if category not in hashMap:\n",
        "                  hashMap[category] = {\"correct\" : 0, \"incorrect\" : 0}\n",
        "                hashMap[category]['correct'] += 1\n",
        "\n",
        "              if CLASS in uniqueCars:\n",
        "                hashMap[\"classic_cars\"][\"correct\"] += 1\n",
        "\n",
        "            else:\n",
        "              for category in IMAGE_DATA:\n",
        "                if category not in hashMap:\n",
        "                  hashMap[category] = {\"correct\" : 0, \"incorrect\" : 0}\n",
        "                hashMap[category]['incorrect'] += 1\n",
        "              \n",
        "              if CLASS in uniqueCars:\n",
        "                hashMap[\"classic_cars\"][\"incorrect\"] += 1\n",
        "            \n",
        "            bar.update(count)\n",
        "            \n",
        "    test_acc = 100.0 * (correct / total)\n",
        "    print(\"\")\n",
        "    print('The accuracy on the test dataset:', (test_acc))\n",
        "    return [correct, total, test_acc]"
      ]
    },
    {
      "cell_type": "code",
      "execution_count": null,
      "metadata": {
        "id": "UKzuxC8mEJzP"
      },
      "outputs": [],
      "source": [
        "HighestAccuracy = 0\n",
        "ImageSize = 0\n",
        "\n",
        "for i in range(224, 311):\n",
        "  print(i)\n",
        "  test_dataset = TEST_DATASET\n",
        "  test_transform = transforms.Compose([transforms.Resize(i),\n",
        "                                  transforms.ToTensor(),\n",
        "                                  transforms.Normalize((0.485, 0.456, 0.406), (0.229, 0.224, 0.225))])\n",
        "\n",
        "  dataset = torchvision.datasets.ImageFolder(root=test_dataset, transform = test_transform)\n",
        "  testloader = torch.utils.data.DataLoader(dataset, batch_size = 1, shuffle=False, num_workers = 2)\n",
        "\n",
        "  model = torch.load(MODEL)\n",
        "  model.eval()\n",
        "  info = EvaluateModel(model)\n",
        "  if info[2] > HighestAccuracy:\n",
        "    HighestAccuracy = info[2]\n",
        "    ImageSize = i\n",
        "\n",
        "print(\"\")\n",
        "print(\"The best accuracy is \" + str(round(HighestAccuracy, 2)) + \"% and the image size is \" + str(ImageSize))"
      ]
    },
    {
      "cell_type": "code",
      "source": [
        "hashMap = {}"
      ],
      "metadata": {
        "id": "Uf__kUgvZRx7"
      },
      "execution_count": null,
      "outputs": []
    },
    {
      "cell_type": "code",
      "execution_count": null,
      "metadata": {
        "id": "NINmKB9drFA5"
      },
      "outputs": [],
      "source": [
        "test_dataset = TEST_DATASET\n",
        "test_transform = transforms.Compose([transforms.Resize(ImageSize),\n",
        "                                transforms.ToTensor(),\n",
        "                                transforms.Normalize((0.485, 0.456, 0.406), (0.229, 0.224, 0.225))])\n",
        "\n",
        "dataset = torchvision.datasets.ImageFolder(root=test_dataset, transform = test_transform)\n",
        "testloader = torch.utils.data.DataLoader(dataset, batch_size = 1, shuffle=False, num_workers = 2)"
      ]
    },
    {
      "cell_type": "code",
      "source": [
        "model = torch.load(MODEL)\n",
        "model.eval()\n",
        "EvaluateModel(model)"
      ],
      "metadata": {
        "id": "hPg6JG5nWbix"
      },
      "execution_count": null,
      "outputs": []
    },
    {
      "cell_type": "code",
      "execution_count": null,
      "metadata": {
        "id": "SQMzr3A2MI43"
      },
      "outputs": [],
      "source": [
        "for category in hashMap:\n",
        "  correct, incorrect = hashMap[category]['correct'], hashMap[category]['incorrect']\n",
        "  accuracy = (correct / (correct + incorrect)) * 100\n",
        "  accuracy = round(accuracy, 2)\n",
        "  print(f\"{category} : {accuracy}%     - correct {correct}   incorrect {incorrect}\")"
      ]
    }
  ],
  "metadata": {
    "accelerator": "GPU",
    "colab": {
      "provenance": []
    },
    "gpuClass": "standard",
    "kernelspec": {
      "display_name": "Python 3",
      "name": "python3"
    },
    "language_info": {
      "name": "python"
    }
  },
  "nbformat": 4,
  "nbformat_minor": 0
}