{
 "cells": [
  {
   "cell_type": "code",
   "execution_count": 1,
   "id": "1d503fad",
   "metadata": {
    "_cell_guid": "b1076dfc-b9ad-4769-8c92-a6c4dae69d19",
    "_uuid": "8f2839f25d086af736a60e9eeb907d3b93b6e0e5",
    "execution": {
     "iopub.execute_input": "2022-12-12T00:06:44.570989Z",
     "iopub.status.busy": "2022-12-12T00:06:44.570493Z",
     "iopub.status.idle": "2022-12-12T00:06:46.582458Z",
     "shell.execute_reply": "2022-12-12T00:06:46.580670Z"
    },
    "papermill": {
     "duration": 2.021431,
     "end_time": "2022-12-12T00:06:46.585859",
     "exception": false,
     "start_time": "2022-12-12T00:06:44.564428",
     "status": "completed"
    },
    "tags": []
   },
   "outputs": [
    {
     "name": "stdout",
     "output_type": "stream",
     "text": [
      "cuda:0\n"
     ]
    }
   ],
   "source": [
    "# Import libs\n",
    "import matplotlib.pyplot as plt\n",
    "import numpy as np\n",
    "import pandas as pd\n",
    "import torch\n",
    "import torch.nn as nn\n",
    "import torch.optim as optim\n",
    "import torchvision\n",
    "import torchvision.models as models\n",
    "import torchvision.transforms as transforms\n",
    "import time\n",
    "import os\n",
    "import PIL.Image as Image\n",
    "from IPython.display import display\n",
    "device = torch.device(\"cuda:0\" if torch.cuda.is_available() else \"cpu\")\n",
    "print(device)"
   ]
  },
  {
   "cell_type": "code",
   "execution_count": 2,
   "id": "74fe763f",
   "metadata": {
    "execution": {
     "iopub.execute_input": "2022-12-12T00:06:46.598384Z",
     "iopub.status.busy": "2022-12-12T00:06:46.597864Z",
     "iopub.status.idle": "2022-12-12T00:06:46.604113Z",
     "shell.execute_reply": "2022-12-12T00:06:46.602916Z"
    },
    "papermill": {
     "duration": 0.015775,
     "end_time": "2022-12-12T00:06:46.607413",
     "exception": false,
     "start_time": "2022-12-12T00:06:46.591638",
     "status": "completed"
    },
    "tags": []
   },
   "outputs": [],
   "source": [
    "import warnings\n",
    "warnings.filterwarnings(\"ignore\")"
   ]
  },
  {
   "cell_type": "code",
   "execution_count": 3,
   "id": "eb461c8d",
   "metadata": {
    "execution": {
     "iopub.execute_input": "2022-12-12T00:06:46.621345Z",
     "iopub.status.busy": "2022-12-12T00:06:46.620867Z",
     "iopub.status.idle": "2022-12-12T00:07:20.075051Z",
     "shell.execute_reply": "2022-12-12T00:07:20.074052Z"
    },
    "papermill": {
     "duration": 33.463789,
     "end_time": "2022-12-12T00:07:20.077489",
     "exception": false,
     "start_time": "2022-12-12T00:06:46.613700",
     "status": "completed"
    },
    "tags": []
   },
   "outputs": [],
   "source": [
    "dataset_dir_train = \"../input/training-dataset-v6/finalDataset\"\n",
    "\n",
    "train_transform = transforms.Compose([transforms.Resize(256),\n",
    "                                      transforms.CenterCrop(224),\n",
    "                                 transforms.RandomRotation(20),\n",
    "                                 transforms.RandomHorizontalFlip(),\n",
    "                                 transforms.ToTensor(),\n",
    "                                 transforms.Normalize((0.485, 0.456, 0.406), (0.229, 0.224, 0.225))])\n",
    "\n",
    "\n",
    "dataset = torchvision.datasets.ImageFolder(root=dataset_dir_train, transform = train_transform)\n",
    "trainloader = torch.utils.data.DataLoader(dataset, batch_size = 32, shuffle=True, num_workers = 2)"
   ]
  },
  {
   "cell_type": "code",
   "execution_count": 4,
   "id": "4cd82de6",
   "metadata": {
    "execution": {
     "iopub.execute_input": "2022-12-12T00:07:20.086214Z",
     "iopub.status.busy": "2022-12-12T00:07:20.085382Z",
     "iopub.status.idle": "2022-12-12T00:07:20.095315Z",
     "shell.execute_reply": "2022-12-12T00:07:20.094497Z"
    },
    "papermill": {
     "duration": 0.016119,
     "end_time": "2022-12-12T00:07:20.097189",
     "exception": false,
     "start_time": "2022-12-12T00:07:20.081070",
     "status": "completed"
    },
    "tags": []
   },
   "outputs": [],
   "source": [
    "# function to train the model\n",
    "def TrainModel(model, lossFun, optimizer, scheduler, n_epochs=5):\n",
    "    losses = []\n",
    "    accuracies = []\n",
    "    \n",
    "    model.train()\n",
    "    \n",
    "    for epoch in range(n_epochs):\n",
    "        print(epoch)\n",
    "        since = time.time() # record the start time\n",
    "        running_loss = 0.0\n",
    "        running_correct = 0.0\n",
    "        counter = 0\n",
    "        for i, data in enumerate(trainloader, 0):\n",
    "            \n",
    "            inputs, labels = data\n",
    "            # Asigning GPU\n",
    "            inputs = inputs.to(device)\n",
    "            labels = labels.to(device)\n",
    "            \n",
    "            optimizer.zero_grad()\n",
    "            counter += len(inputs)\n",
    "            outputs = model(inputs)\n",
    "            \n",
    "            m = nn.LogSoftmax(dim=1)\n",
    "            _, predicted = torch.max(outputs.data, 1)\n",
    "            loss = lossFun(m(outputs), labels)\n",
    "            loss.backward()\n",
    "            optimizer.step()\n",
    "            \n",
    "            running_loss += loss.item()\n",
    "            running_correct += (labels==predicted).sum().item()\n",
    "\n",
    "        timeSpent = time.time()-since # time used\n",
    "        epoch_loss = running_loss/counter\n",
    "        print(running_correct, counter)\n",
    "        epoch_acc = 100*(running_correct/counter)\n",
    "        print(\"Epoch %s, Time Used: %d s, loss: %.4f, acc: %.4f\" % (epoch+1, timeSpent, epoch_loss, epoch_acc))\n",
    "        \n",
    "        losses.append(epoch_loss)\n",
    "        accuracies.append(epoch_acc)\n",
    "        scheduler.step(epoch_acc)\n",
    "        \n",
    "        torch.save(model, str(epoch) + \"_epoch.pt\")\n",
    "    print('Training Finished')\n",
    "    return model, losses, accuracies"
   ]
  },
  {
   "cell_type": "code",
   "execution_count": 5,
   "id": "4a021ae4",
   "metadata": {
    "execution": {
     "iopub.execute_input": "2022-12-12T00:07:20.105298Z",
     "iopub.status.busy": "2022-12-12T00:07:20.104467Z",
     "iopub.status.idle": "2022-12-12T00:07:26.477838Z",
     "shell.execute_reply": "2022-12-12T00:07:26.476834Z"
    },
    "papermill": {
     "duration": 6.380128,
     "end_time": "2022-12-12T00:07:26.480551",
     "exception": false,
     "start_time": "2022-12-12T00:07:20.100423",
     "status": "completed"
    },
    "tags": []
   },
   "outputs": [],
   "source": [
    "regnet_v6 = torch.load(\"../input/models/regnet_y_3_2gf_v6.pt\", torch.device(\"cuda:0\" if torch.cuda.is_available() else \"cpu\"))\n",
    "regnet_v4 = torch.load(\"../input/models/regnet_y_3_2gf_v4.pt\", torch.device(\"cuda:0\" if torch.cuda.is_available() else \"cpu\"))\n",
    "regnet_1000x400 = torch.load(\"../input/models/regnet_y_3_2gf_v(1000 x 400 x 23).pt\", torch.device(\"cuda:0\" if torch.cuda.is_available() else \"cpu\"))"
   ]
  },
  {
   "cell_type": "code",
   "execution_count": 6,
   "id": "eec5ad12",
   "metadata": {
    "execution": {
     "iopub.execute_input": "2022-12-12T00:07:26.488808Z",
     "iopub.status.busy": "2022-12-12T00:07:26.488510Z",
     "iopub.status.idle": "2022-12-12T00:07:26.499895Z",
     "shell.execute_reply": "2022-12-12T00:07:26.498507Z"
    },
    "papermill": {
     "duration": 0.017812,
     "end_time": "2022-12-12T00:07:26.501880",
     "exception": false,
     "start_time": "2022-12-12T00:07:26.484068",
     "status": "completed"
    },
    "tags": []
   },
   "outputs": [
    {
     "name": "stdout",
     "output_type": "stream",
     "text": [
      "---\n"
     ]
    }
   ],
   "source": [
    "regnet_v6.eval()\n",
    "regnet_v4.eval()\n",
    "regnet_1000x400.eval()\n",
    "print(\"---\")"
   ]
  },
  {
   "cell_type": "code",
   "execution_count": 7,
   "id": "0696171e",
   "metadata": {
    "execution": {
     "iopub.execute_input": "2022-12-12T00:07:26.510050Z",
     "iopub.status.busy": "2022-12-12T00:07:26.509293Z",
     "iopub.status.idle": "2022-12-12T00:07:26.517521Z",
     "shell.execute_reply": "2022-12-12T00:07:26.516592Z"
    },
    "papermill": {
     "duration": 0.014325,
     "end_time": "2022-12-12T00:07:26.519509",
     "exception": false,
     "start_time": "2022-12-12T00:07:26.505184",
     "status": "completed"
    },
    "tags": []
   },
   "outputs": [],
   "source": [
    "class EnsembleModel(nn.Module):   \n",
    "    def __init__(self, modelA, modelB, modelC, modelD):\n",
    "        super().__init__()\n",
    "        self.modelA = modelA\n",
    "        self.modelB = modelB\n",
    "        self.modelC = modelC\n",
    "        self.classifier = modelD\n",
    "        \n",
    "    def forward(self, x):\n",
    "        x1 = self.modelA(x)\n",
    "        x2 = self.modelB(x)\n",
    "        x3 = self.modelC(x)\n",
    "        \n",
    "        x1 = x1.to('cpu').numpy()\n",
    "        x2 = x2.to('cpu').numpy()\n",
    "        x3 = x3.to('cpu').numpy()\n",
    "        \n",
    "        x = []\n",
    "        for i in range(len(x1)):\n",
    "            temp = [[x1[i]], [x2[i]], [x3[i]]]\n",
    "            x.append(temp)\n",
    "        x = torch.tensor(x)\n",
    "        x = x.to(\"cuda:0\")\n",
    "        out = self.classifier(x)\n",
    "        return out"
   ]
  },
  {
   "cell_type": "code",
   "execution_count": 8,
   "id": "3af49d47",
   "metadata": {
    "execution": {
     "iopub.execute_input": "2022-12-12T00:07:26.527536Z",
     "iopub.status.busy": "2022-12-12T00:07:26.527262Z",
     "iopub.status.idle": "2022-12-12T00:07:31.715523Z",
     "shell.execute_reply": "2022-12-12T00:07:31.714521Z"
    },
    "papermill": {
     "duration": 5.195184,
     "end_time": "2022-12-12T00:07:31.718051",
     "exception": false,
     "start_time": "2022-12-12T00:07:26.522867",
     "status": "completed"
    },
    "tags": []
   },
   "outputs": [
    {
     "name": "stderr",
     "output_type": "stream",
     "text": [
      "Downloading: \"https://download.pytorch.org/models/regnet_y_3_2gf-b5a9779c.pth\" to /root/.cache/torch/hub/checkpoints/regnet_y_3_2gf-b5a9779c.pth\n"
     ]
    },
    {
     "data": {
      "application/vnd.jupyter.widget-view+json": {
       "model_id": "26bea0a99b6e48a29cbfb409043d9406",
       "version_major": 2,
       "version_minor": 0
      },
      "text/plain": [
       "  0%|          | 0.00/74.6M [00:00<?, ?B/s]"
      ]
     },
     "metadata": {},
     "output_type": "display_data"
    }
   ],
   "source": [
    "model = models.regnet_y_3_2gf(pretrained = True)"
   ]
  },
  {
   "cell_type": "code",
   "execution_count": 9,
   "id": "c6fd1234",
   "metadata": {
    "execution": {
     "iopub.execute_input": "2022-12-12T00:07:31.727318Z",
     "iopub.status.busy": "2022-12-12T00:07:31.727011Z",
     "iopub.status.idle": "2022-12-12T00:07:31.774287Z",
     "shell.execute_reply": "2022-12-12T00:07:31.773420Z"
    },
    "papermill": {
     "duration": 0.054316,
     "end_time": "2022-12-12T00:07:31.776376",
     "exception": false,
     "start_time": "2022-12-12T00:07:31.722060",
     "status": "completed"
    },
    "tags": []
   },
   "outputs": [],
   "source": [
    "model.fc = nn.Sequential(\n",
    "    model.fc,\n",
    "    nn.Linear(in_features=1000, out_features=400, bias = True),\n",
    "    nn.Linear(in_features=400, out_features=150, bias=True),\n",
    "    nn.Linear(in_features=150, out_features=23, bias=True)\n",
    ")\n",
    "\n",
    "model = model.to(device)"
   ]
  },
  {
   "cell_type": "code",
   "execution_count": 10,
   "id": "3ff31ae5",
   "metadata": {
    "execution": {
     "iopub.execute_input": "2022-12-12T00:07:31.785017Z",
     "iopub.status.busy": "2022-12-12T00:07:31.784742Z",
     "iopub.status.idle": "2022-12-12T00:07:31.810606Z",
     "shell.execute_reply": "2022-12-12T00:07:31.809654Z"
    },
    "papermill": {
     "duration": 0.03254,
     "end_time": "2022-12-12T00:07:31.812691",
     "exception": false,
     "start_time": "2022-12-12T00:07:31.780151",
     "status": "completed"
    },
    "tags": []
   },
   "outputs": [],
   "source": [
    "ensemble_model = EnsembleModel(regnet_v6, regnet_v4, regnet_1000x400, model)\n",
    "\n",
    "for param in ensemble_model.modelA.parameters():\n",
    "    param.requires_grad = False\n",
    "\n",
    "for param in ensemble_model.modelB.parameters():\n",
    "    param.requires_grad = False\n",
    "\n",
    "for param in ensemble_model.modelC.parameters():\n",
    "    param.requires_grad = False\n",
    "    \n",
    "for param in ensemble_model.classifier.parameters():\n",
    "    param.requires_grad = True\n",
    "\n",
    "ensemble_model = ensemble_model.to(\"cuda:0\" if torch.cuda.is_available() else \"cpu\")"
   ]
  },
  {
   "cell_type": "code",
   "execution_count": 11,
   "id": "c3807bdf",
   "metadata": {
    "execution": {
     "iopub.execute_input": "2022-12-12T00:07:31.820690Z",
     "iopub.status.busy": "2022-12-12T00:07:31.820435Z",
     "iopub.status.idle": "2022-12-12T00:07:31.832367Z",
     "shell.execute_reply": "2022-12-12T00:07:31.831463Z"
    },
    "papermill": {
     "duration": 0.018145,
     "end_time": "2022-12-12T00:07:31.834292",
     "exception": false,
     "start_time": "2022-12-12T00:07:31.816147",
     "status": "completed"
    },
    "tags": []
   },
   "outputs": [],
   "source": [
    "lossFun = nn.NLLLoss()\n",
    "optimizer = optim.SGD(ensemble_model.parameters(), lr=0.008, momentum=0.9)\n",
    "lrscheduler = optim.lr_scheduler.ReduceLROnPlateau(optimizer, mode='max', patience=2, threshold = 0.9)"
   ]
  },
  {
   "cell_type": "code",
   "execution_count": 12,
   "id": "df10d642",
   "metadata": {
    "execution": {
     "iopub.execute_input": "2022-12-12T00:07:31.842463Z",
     "iopub.status.busy": "2022-12-12T00:07:31.842208Z",
     "iopub.status.idle": "2022-12-12T04:17:13.972684Z",
     "shell.execute_reply": "2022-12-12T04:17:13.971170Z"
    },
    "papermill": {
     "duration": 14982.137239,
     "end_time": "2022-12-12T04:17:13.975016",
     "exception": false,
     "start_time": "2022-12-12T00:07:31.837777",
     "status": "completed"
    },
    "tags": []
   },
   "outputs": [
    {
     "name": "stdout",
     "output_type": "stream",
     "text": [
      "0\n",
      "43085.0 46374\n",
      "Epoch 1, Time Used: 659 s, loss: 0.0078, acc: 92.9077\n",
      "1\n",
      "45115.0 46374\n",
      "Epoch 2, Time Used: 586 s, loss: 0.0026, acc: 97.2851\n",
      "2\n",
      "45341.0 46374\n",
      "Epoch 3, Time Used: 583 s, loss: 0.0022, acc: 97.7725\n",
      "3\n",
      "45452.0 46374\n",
      "Epoch 4, Time Used: 593 s, loss: 0.0019, acc: 98.0118\n",
      "4\n",
      "45599.0 46374\n",
      "Epoch 5, Time Used: 596 s, loss: 0.0015, acc: 98.3288\n",
      "5\n",
      "45650.0 46374\n",
      "Epoch 6, Time Used: 595 s, loss: 0.0013, acc: 98.4388\n",
      "6\n",
      "45674.0 46374\n",
      "Epoch 7, Time Used: 601 s, loss: 0.0013, acc: 98.4905\n",
      "7\n",
      "45720.0 46374\n",
      "Epoch 8, Time Used: 603 s, loss: 0.0013, acc: 98.5897\n",
      "8\n",
      "45718.0 46374\n",
      "Epoch 9, Time Used: 595 s, loss: 0.0012, acc: 98.5854\n",
      "9\n",
      "45730.0 46374\n",
      "Epoch 10, Time Used: 596 s, loss: 0.0012, acc: 98.6113\n",
      "10\n",
      "45691.0 46374\n",
      "Epoch 11, Time Used: 595 s, loss: 0.0013, acc: 98.5272\n",
      "11\n",
      "45719.0 46374\n",
      "Epoch 12, Time Used: 598 s, loss: 0.0012, acc: 98.5876\n",
      "12\n",
      "45702.0 46374\n",
      "Epoch 13, Time Used: 597 s, loss: 0.0013, acc: 98.5509\n",
      "13\n",
      "45710.0 46374\n",
      "Epoch 14, Time Used: 596 s, loss: 0.0012, acc: 98.5682\n",
      "14\n",
      "45678.0 46374\n",
      "Epoch 15, Time Used: 595 s, loss: 0.0013, acc: 98.4992\n",
      "15\n",
      "45692.0 46374\n",
      "Epoch 16, Time Used: 601 s, loss: 0.0012, acc: 98.5293\n",
      "16\n",
      "45717.0 46374\n",
      "Epoch 17, Time Used: 604 s, loss: 0.0012, acc: 98.5833\n",
      "17\n",
      "45685.0 46374\n",
      "Epoch 18, Time Used: 599 s, loss: 0.0012, acc: 98.5143\n",
      "18\n",
      "45667.0 46374\n",
      "Epoch 19, Time Used: 595 s, loss: 0.0013, acc: 98.4754\n",
      "19\n",
      "45702.0 46374\n",
      "Epoch 20, Time Used: 596 s, loss: 0.0012, acc: 98.5509\n",
      "20\n",
      "45709.0 46374\n",
      "Epoch 21, Time Used: 593 s, loss: 0.0012, acc: 98.5660\n",
      "21\n",
      "45695.0 46374\n",
      "Epoch 22, Time Used: 592 s, loss: 0.0012, acc: 98.5358\n",
      "22\n",
      "45709.0 46374\n",
      "Epoch 23, Time Used: 592 s, loss: 0.0012, acc: 98.5660\n",
      "23\n",
      "45713.0 46374\n",
      "Epoch 24, Time Used: 595 s, loss: 0.0012, acc: 98.5746\n",
      "24\n",
      "45739.0 46374\n",
      "Epoch 25, Time Used: 592 s, loss: 0.0012, acc: 98.6307\n",
      "Training Finished\n"
     ]
    }
   ],
   "source": [
    "model, training_losses, training_accs = TrainModel(ensemble_model, lossFun, optimizer, lrscheduler, n_epochs=25)"
   ]
  },
  {
   "cell_type": "code",
   "execution_count": 13,
   "id": "8b418ddf",
   "metadata": {
    "execution": {
     "iopub.execute_input": "2022-12-12T04:17:13.989922Z",
     "iopub.status.busy": "2022-12-12T04:17:13.988932Z",
     "iopub.status.idle": "2022-12-12T04:17:14.726486Z",
     "shell.execute_reply": "2022-12-12T04:17:14.725484Z"
    },
    "papermill": {
     "duration": 0.747425,
     "end_time": "2022-12-12T04:17:14.728996",
     "exception": false,
     "start_time": "2022-12-12T04:17:13.981571",
     "status": "completed"
    },
    "tags": []
   },
   "outputs": [],
   "source": [
    "model.eval();\n",
    "torch.save(model, \"final.pt\");"
   ]
  },
  {
   "cell_type": "code",
   "execution_count": null,
   "id": "5269f992",
   "metadata": {
    "papermill": {
     "duration": 0.005761,
     "end_time": "2022-12-12T04:17:14.741050",
     "exception": false,
     "start_time": "2022-12-12T04:17:14.735289",
     "status": "completed"
    },
    "tags": []
   },
   "outputs": [],
   "source": []
  }
 ],
 "metadata": {
  "kernelspec": {
   "display_name": "Python 3",
   "language": "python",
   "name": "python3"
  },
  "language_info": {
   "codemirror_mode": {
    "name": "ipython",
    "version": 3
   },
   "file_extension": ".py",
   "mimetype": "text/x-python",
   "name": "python",
   "nbconvert_exporter": "python",
   "pygments_lexer": "ipython3",
   "version": "3.7.12"
  },
  "papermill": {
   "default_parameters": {},
   "duration": 15039.615792,
   "end_time": "2022-12-12T04:17:16.494052",
   "environment_variables": {},
   "exception": null,
   "input_path": "__notebook__.ipynb",
   "output_path": "__notebook__.ipynb",
   "parameters": {},
   "start_time": "2022-12-12T00:06:36.878260",
   "version": "2.3.4"
  },
  "widgets": {
   "application/vnd.jupyter.widget-state+json": {
    "state": {
     "26bea0a99b6e48a29cbfb409043d9406": {
      "model_module": "@jupyter-widgets/controls",
      "model_module_version": "1.5.0",
      "model_name": "HBoxModel",
      "state": {
       "_dom_classes": [],
       "_model_module": "@jupyter-widgets/controls",
       "_model_module_version": "1.5.0",
       "_model_name": "HBoxModel",
       "_view_count": null,
       "_view_module": "@jupyter-widgets/controls",
       "_view_module_version": "1.5.0",
       "_view_name": "HBoxView",
       "box_style": "",
       "children": [
        "IPY_MODEL_50e5b7a86d064bfdac2e8139a3d3d2a5",
        "IPY_MODEL_68467c6a9c3f46a38f95e8be662a0b63",
        "IPY_MODEL_3e3e34d49d774a518df8e2c3ec772c1c"
       ],
       "layout": "IPY_MODEL_90d9f81703d6427ca9b2f4c88a679e18"
      }
     },
     "3c2525767fae4f58a1680874f467bd8a": {
      "model_module": "@jupyter-widgets/base",
      "model_module_version": "1.2.0",
      "model_name": "LayoutModel",
      "state": {
       "_model_module": "@jupyter-widgets/base",
       "_model_module_version": "1.2.0",
       "_model_name": "LayoutModel",
       "_view_count": null,
       "_view_module": "@jupyter-widgets/base",
       "_view_module_version": "1.2.0",
       "_view_name": "LayoutView",
       "align_content": null,
       "align_items": null,
       "align_self": null,
       "border": null,
       "bottom": null,
       "display": null,
       "flex": null,
       "flex_flow": null,
       "grid_area": null,
       "grid_auto_columns": null,
       "grid_auto_flow": null,
       "grid_auto_rows": null,
       "grid_column": null,
       "grid_gap": null,
       "grid_row": null,
       "grid_template_areas": null,
       "grid_template_columns": null,
       "grid_template_rows": null,
       "height": null,
       "justify_content": null,
       "justify_items": null,
       "left": null,
       "margin": null,
       "max_height": null,
       "max_width": null,
       "min_height": null,
       "min_width": null,
       "object_fit": null,
       "object_position": null,
       "order": null,
       "overflow": null,
       "overflow_x": null,
       "overflow_y": null,
       "padding": null,
       "right": null,
       "top": null,
       "visibility": null,
       "width": null
      }
     },
     "3cdecc5fe6fe460583d6b02cd0549e1f": {
      "model_module": "@jupyter-widgets/controls",
      "model_module_version": "1.5.0",
      "model_name": "DescriptionStyleModel",
      "state": {
       "_model_module": "@jupyter-widgets/controls",
       "_model_module_version": "1.5.0",
       "_model_name": "DescriptionStyleModel",
       "_view_count": null,
       "_view_module": "@jupyter-widgets/base",
       "_view_module_version": "1.2.0",
       "_view_name": "StyleView",
       "description_width": ""
      }
     },
     "3e3e34d49d774a518df8e2c3ec772c1c": {
      "model_module": "@jupyter-widgets/controls",
      "model_module_version": "1.5.0",
      "model_name": "HTMLModel",
      "state": {
       "_dom_classes": [],
       "_model_module": "@jupyter-widgets/controls",
       "_model_module_version": "1.5.0",
       "_model_name": "HTMLModel",
       "_view_count": null,
       "_view_module": "@jupyter-widgets/controls",
       "_view_module_version": "1.5.0",
       "_view_name": "HTMLView",
       "description": "",
       "description_tooltip": null,
       "layout": "IPY_MODEL_43272172028849db8cf1ca1f9e7faf20",
       "placeholder": "​",
       "style": "IPY_MODEL_3cdecc5fe6fe460583d6b02cd0549e1f",
       "value": " 74.6M/74.6M [00:04&lt;00:00, 22.6MB/s]"
      }
     },
     "43272172028849db8cf1ca1f9e7faf20": {
      "model_module": "@jupyter-widgets/base",
      "model_module_version": "1.2.0",
      "model_name": "LayoutModel",
      "state": {
       "_model_module": "@jupyter-widgets/base",
       "_model_module_version": "1.2.0",
       "_model_name": "LayoutModel",
       "_view_count": null,
       "_view_module": "@jupyter-widgets/base",
       "_view_module_version": "1.2.0",
       "_view_name": "LayoutView",
       "align_content": null,
       "align_items": null,
       "align_self": null,
       "border": null,
       "bottom": null,
       "display": null,
       "flex": null,
       "flex_flow": null,
       "grid_area": null,
       "grid_auto_columns": null,
       "grid_auto_flow": null,
       "grid_auto_rows": null,
       "grid_column": null,
       "grid_gap": null,
       "grid_row": null,
       "grid_template_areas": null,
       "grid_template_columns": null,
       "grid_template_rows": null,
       "height": null,
       "justify_content": null,
       "justify_items": null,
       "left": null,
       "margin": null,
       "max_height": null,
       "max_width": null,
       "min_height": null,
       "min_width": null,
       "object_fit": null,
       "object_position": null,
       "order": null,
       "overflow": null,
       "overflow_x": null,
       "overflow_y": null,
       "padding": null,
       "right": null,
       "top": null,
       "visibility": null,
       "width": null
      }
     },
     "50e5b7a86d064bfdac2e8139a3d3d2a5": {
      "model_module": "@jupyter-widgets/controls",
      "model_module_version": "1.5.0",
      "model_name": "HTMLModel",
      "state": {
       "_dom_classes": [],
       "_model_module": "@jupyter-widgets/controls",
       "_model_module_version": "1.5.0",
       "_model_name": "HTMLModel",
       "_view_count": null,
       "_view_module": "@jupyter-widgets/controls",
       "_view_module_version": "1.5.0",
       "_view_name": "HTMLView",
       "description": "",
       "description_tooltip": null,
       "layout": "IPY_MODEL_5e4d39a86aa7444397c2ca304882f388",
       "placeholder": "​",
       "style": "IPY_MODEL_8d3b5c4c4a8345989f47cf2524077aec",
       "value": "100%"
      }
     },
     "53d3fa19d2dc42278163909d12039d85": {
      "model_module": "@jupyter-widgets/controls",
      "model_module_version": "1.5.0",
      "model_name": "ProgressStyleModel",
      "state": {
       "_model_module": "@jupyter-widgets/controls",
       "_model_module_version": "1.5.0",
       "_model_name": "ProgressStyleModel",
       "_view_count": null,
       "_view_module": "@jupyter-widgets/base",
       "_view_module_version": "1.2.0",
       "_view_name": "StyleView",
       "bar_color": null,
       "description_width": ""
      }
     },
     "5e4d39a86aa7444397c2ca304882f388": {
      "model_module": "@jupyter-widgets/base",
      "model_module_version": "1.2.0",
      "model_name": "LayoutModel",
      "state": {
       "_model_module": "@jupyter-widgets/base",
       "_model_module_version": "1.2.0",
       "_model_name": "LayoutModel",
       "_view_count": null,
       "_view_module": "@jupyter-widgets/base",
       "_view_module_version": "1.2.0",
       "_view_name": "LayoutView",
       "align_content": null,
       "align_items": null,
       "align_self": null,
       "border": null,
       "bottom": null,
       "display": null,
       "flex": null,
       "flex_flow": null,
       "grid_area": null,
       "grid_auto_columns": null,
       "grid_auto_flow": null,
       "grid_auto_rows": null,
       "grid_column": null,
       "grid_gap": null,
       "grid_row": null,
       "grid_template_areas": null,
       "grid_template_columns": null,
       "grid_template_rows": null,
       "height": null,
       "justify_content": null,
       "justify_items": null,
       "left": null,
       "margin": null,
       "max_height": null,
       "max_width": null,
       "min_height": null,
       "min_width": null,
       "object_fit": null,
       "object_position": null,
       "order": null,
       "overflow": null,
       "overflow_x": null,
       "overflow_y": null,
       "padding": null,
       "right": null,
       "top": null,
       "visibility": null,
       "width": null
      }
     },
     "68467c6a9c3f46a38f95e8be662a0b63": {
      "model_module": "@jupyter-widgets/controls",
      "model_module_version": "1.5.0",
      "model_name": "FloatProgressModel",
      "state": {
       "_dom_classes": [],
       "_model_module": "@jupyter-widgets/controls",
       "_model_module_version": "1.5.0",
       "_model_name": "FloatProgressModel",
       "_view_count": null,
       "_view_module": "@jupyter-widgets/controls",
       "_view_module_version": "1.5.0",
       "_view_name": "ProgressView",
       "bar_style": "success",
       "description": "",
       "description_tooltip": null,
       "layout": "IPY_MODEL_3c2525767fae4f58a1680874f467bd8a",
       "max": 78189157.0,
       "min": 0.0,
       "orientation": "horizontal",
       "style": "IPY_MODEL_53d3fa19d2dc42278163909d12039d85",
       "value": 78189157.0
      }
     },
     "8d3b5c4c4a8345989f47cf2524077aec": {
      "model_module": "@jupyter-widgets/controls",
      "model_module_version": "1.5.0",
      "model_name": "DescriptionStyleModel",
      "state": {
       "_model_module": "@jupyter-widgets/controls",
       "_model_module_version": "1.5.0",
       "_model_name": "DescriptionStyleModel",
       "_view_count": null,
       "_view_module": "@jupyter-widgets/base",
       "_view_module_version": "1.2.0",
       "_view_name": "StyleView",
       "description_width": ""
      }
     },
     "90d9f81703d6427ca9b2f4c88a679e18": {
      "model_module": "@jupyter-widgets/base",
      "model_module_version": "1.2.0",
      "model_name": "LayoutModel",
      "state": {
       "_model_module": "@jupyter-widgets/base",
       "_model_module_version": "1.2.0",
       "_model_name": "LayoutModel",
       "_view_count": null,
       "_view_module": "@jupyter-widgets/base",
       "_view_module_version": "1.2.0",
       "_view_name": "LayoutView",
       "align_content": null,
       "align_items": null,
       "align_self": null,
       "border": null,
       "bottom": null,
       "display": null,
       "flex": null,
       "flex_flow": null,
       "grid_area": null,
       "grid_auto_columns": null,
       "grid_auto_flow": null,
       "grid_auto_rows": null,
       "grid_column": null,
       "grid_gap": null,
       "grid_row": null,
       "grid_template_areas": null,
       "grid_template_columns": null,
       "grid_template_rows": null,
       "height": null,
       "justify_content": null,
       "justify_items": null,
       "left": null,
       "margin": null,
       "max_height": null,
       "max_width": null,
       "min_height": null,
       "min_width": null,
       "object_fit": null,
       "object_position": null,
       "order": null,
       "overflow": null,
       "overflow_x": null,
       "overflow_y": null,
       "padding": null,
       "right": null,
       "top": null,
       "visibility": null,
       "width": null
      }
     }
    },
    "version_major": 2,
    "version_minor": 0
   }
  }
 },
 "nbformat": 4,
 "nbformat_minor": 5
}
