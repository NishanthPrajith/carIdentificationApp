{
 "cells": [
  {
   "cell_type": "code",
   "execution_count": 1,
   "id": "41def33c",
   "metadata": {
    "_cell_guid": "b1076dfc-b9ad-4769-8c92-a6c4dae69d19",
    "_uuid": "8f2839f25d086af736a60e9eeb907d3b93b6e0e5",
    "execution": {
     "iopub.execute_input": "2022-12-01T00:48:25.434946Z",
     "iopub.status.busy": "2022-12-01T00:48:25.434419Z",
     "iopub.status.idle": "2022-12-01T00:48:27.382220Z",
     "shell.execute_reply": "2022-12-01T00:48:27.380990Z"
    },
    "papermill": {
     "duration": 1.955784,
     "end_time": "2022-12-01T00:48:27.384918",
     "exception": false,
     "start_time": "2022-12-01T00:48:25.429134",
     "status": "completed"
    },
    "tags": []
   },
   "outputs": [
    {
     "name": "stdout",
     "output_type": "stream",
     "text": [
      "cuda:0\n"
     ]
    }
   ],
   "source": [
    "# Import libs\n",
    "import matplotlib.pyplot as plt\n",
    "import numpy as np\n",
    "import pandas as pd\n",
    "import torch\n",
    "import torch.nn as nn\n",
    "import torch.optim as optim\n",
    "import torchvision\n",
    "import torchvision.models as models\n",
    "import torchvision.transforms as transforms\n",
    "import time\n",
    "import os\n",
    "import PIL.Image as Image\n",
    "from IPython.display import display\n",
    "device = torch.device(\"cuda:0\" if torch.cuda.is_available() else \"cpu\")\n",
    "print(device)"
   ]
  },
  {
   "cell_type": "code",
   "execution_count": 2,
   "id": "7782ac15",
   "metadata": {
    "execution": {
     "iopub.execute_input": "2022-12-01T00:48:27.392192Z",
     "iopub.status.busy": "2022-12-01T00:48:27.391757Z",
     "iopub.status.idle": "2022-12-01T00:48:27.396170Z",
     "shell.execute_reply": "2022-12-01T00:48:27.395173Z"
    },
    "papermill": {
     "duration": 0.010482,
     "end_time": "2022-12-01T00:48:27.398512",
     "exception": false,
     "start_time": "2022-12-01T00:48:27.388030",
     "status": "completed"
    },
    "tags": []
   },
   "outputs": [],
   "source": [
    "import warnings\n",
    "warnings.filterwarnings(\"ignore\")"
   ]
  },
  {
   "cell_type": "code",
   "execution_count": 3,
   "id": "617f1b38",
   "metadata": {
    "execution": {
     "iopub.execute_input": "2022-12-01T00:48:27.405209Z",
     "iopub.status.busy": "2022-12-01T00:48:27.404907Z",
     "iopub.status.idle": "2022-12-01T00:48:54.637439Z",
     "shell.execute_reply": "2022-12-01T00:48:54.636466Z"
    },
    "papermill": {
     "duration": 27.238534,
     "end_time": "2022-12-01T00:48:54.639852",
     "exception": false,
     "start_time": "2022-12-01T00:48:27.401318",
     "status": "completed"
    },
    "tags": []
   },
   "outputs": [],
   "source": [
    "dataset_dir_train = \"../input/training-dataset-v6/finalDataset\"\n",
    "\n",
    "train_transform = transforms.Compose([transforms.Resize(256),\n",
    "                                      transforms.CenterCrop(224),\n",
    "                                 transforms.RandomRotation(20),\n",
    "                                 transforms.RandomHorizontalFlip(),\n",
    "                                 transforms.ToTensor(),\n",
    "                                 transforms.Normalize((0.485, 0.456, 0.406), (0.229, 0.224, 0.225))])\n",
    "\n",
    "\n",
    "dataset = torchvision.datasets.ImageFolder(root=dataset_dir_train, transform = train_transform)\n",
    "trainloader = torch.utils.data.DataLoader(dataset, batch_size = 32, shuffle=True, num_workers = 2)"
   ]
  },
  {
   "cell_type": "code",
   "execution_count": 4,
   "id": "11cab9a0",
   "metadata": {
    "execution": {
     "iopub.execute_input": "2022-12-01T00:48:54.647355Z",
     "iopub.status.busy": "2022-12-01T00:48:54.646454Z",
     "iopub.status.idle": "2022-12-01T00:48:54.656184Z",
     "shell.execute_reply": "2022-12-01T00:48:54.655394Z"
    },
    "papermill": {
     "duration": 0.015369,
     "end_time": "2022-12-01T00:48:54.658130",
     "exception": false,
     "start_time": "2022-12-01T00:48:54.642761",
     "status": "completed"
    },
    "tags": []
   },
   "outputs": [],
   "source": [
    "# function to train the model\n",
    "def TrainModel(model, lossFun, optimizer, scheduler, n_epochs=5):\n",
    "    losses = []\n",
    "    accuracies = []\n",
    "    \n",
    "    model.train()\n",
    "    \n",
    "    for epoch in range(n_epochs):\n",
    "        print(epoch)\n",
    "        since = time.time() # record the start time\n",
    "        running_loss = 0.0\n",
    "        running_correct = 0.0\n",
    "        counter = 0\n",
    "        for i, data in enumerate(trainloader, 0):\n",
    "            \n",
    "            inputs, labels = data\n",
    "            # Asigning GPU\n",
    "            inputs = inputs.to(device)\n",
    "            labels = labels.to(device)\n",
    "            \n",
    "            optimizer.zero_grad()\n",
    "            counter += len(inputs)\n",
    "            outputs = model(inputs)\n",
    "            m = nn.LogSoftmax(dim=1)\n",
    "            _, predicted = torch.max(outputs.data, 1)\n",
    "            loss = lossFun(m(outputs), labels)\n",
    "            loss.backward()\n",
    "            optimizer.step()\n",
    "            \n",
    "            running_loss += loss.item()\n",
    "            running_correct += (labels==predicted).sum().item()\n",
    "\n",
    "        timeSpent = time.time()-since # time used\n",
    "        epoch_loss = running_loss/counter\n",
    "        print(running_correct, counter)\n",
    "        epoch_acc = 100*(running_correct/counter)\n",
    "        print(\"Epoch %s, Time Used: %d s, loss: %.4f, acc: %.4f\" % (epoch+1, timeSpent, epoch_loss, epoch_acc))\n",
    "        \n",
    "        losses.append(epoch_loss)\n",
    "        accuracies.append(epoch_acc)\n",
    "        scheduler.step(epoch_acc)\n",
    "    print('Training Finished')\n",
    "    return model, losses, accuracies"
   ]
  },
  {
   "cell_type": "code",
   "execution_count": 5,
   "id": "bc58d4f9",
   "metadata": {
    "execution": {
     "iopub.execute_input": "2022-12-01T00:48:54.664732Z",
     "iopub.status.busy": "2022-12-01T00:48:54.663989Z",
     "iopub.status.idle": "2022-12-01T00:48:54.670596Z",
     "shell.execute_reply": "2022-12-01T00:48:54.669694Z"
    },
    "papermill": {
     "duration": 0.011947,
     "end_time": "2022-12-01T00:48:54.672632",
     "exception": false,
     "start_time": "2022-12-01T00:48:54.660685",
     "status": "completed"
    },
    "tags": []
   },
   "outputs": [],
   "source": [
    "class EnsembleModel(nn.Module):   \n",
    "    def __init__(self, modelA, modelB, modelC, modelD):\n",
    "        super().__init__()\n",
    "        self.modelA = modelA\n",
    "        self.modelB = modelB\n",
    "        self.modelC = modelC\n",
    "        self.modelD = modelD\n",
    "        self.classifier = nn.Linear(23 * 4, 23)\n",
    "        \n",
    "    def forward(self, x):\n",
    "        x1 = self.modelA(x)\n",
    "        x2 = self.modelB(x)\n",
    "        x3 = self.modelC(x)\n",
    "        x4 = self.modelD(x)\n",
    "        x = torch.cat((x1, x2, x3, x4), dim=1)\n",
    "        out = self.classifier(x)\n",
    "        return out"
   ]
  },
  {
   "cell_type": "code",
   "execution_count": 6,
   "id": "da79d13c",
   "metadata": {
    "execution": {
     "iopub.execute_input": "2022-12-01T00:48:54.678777Z",
     "iopub.status.busy": "2022-12-01T00:48:54.678521Z",
     "iopub.status.idle": "2022-12-01T00:49:02.206128Z",
     "shell.execute_reply": "2022-12-01T00:49:02.205062Z"
    },
    "papermill": {
     "duration": 7.533398,
     "end_time": "2022-12-01T00:49:02.208548",
     "exception": false,
     "start_time": "2022-12-01T00:48:54.675150",
     "status": "completed"
    },
    "tags": []
   },
   "outputs": [],
   "source": [
    "densenet = torch.load(\"../input/models/model_v5_imgAugmentation_20e.pt\", torch.device(\"cuda:0\" if torch.cuda.is_available() else \"cpu\"))\n",
    "regnet_v6 = torch.load(\"../input/models/regnet_y_3_2gf_v6.pt\", torch.device(\"cuda:0\" if torch.cuda.is_available() else \"cpu\"))\n",
    "regnet_v4 = torch.load(\"../input/models/regnet_y_3_2gf_v4.pt\", torch.device(\"cuda:0\" if torch.cuda.is_available() else \"cpu\"))\n",
    "regnet_1000x400 = torch.load(\"../input/models/regnet_y_3_2gf_v(1000 x 400 x 23).pt\", torch.device(\"cuda:0\" if torch.cuda.is_available() else \"cpu\"))"
   ]
  },
  {
   "cell_type": "code",
   "execution_count": 7,
   "id": "69076cd2",
   "metadata": {
    "execution": {
     "iopub.execute_input": "2022-12-01T00:49:02.216097Z",
     "iopub.status.busy": "2022-12-01T00:49:02.215196Z",
     "iopub.status.idle": "2022-12-01T00:49:02.247056Z",
     "shell.execute_reply": "2022-12-01T00:49:02.246250Z"
    },
    "papermill": {
     "duration": 0.037631,
     "end_time": "2022-12-01T00:49:02.249146",
     "exception": false,
     "start_time": "2022-12-01T00:49:02.211515",
     "status": "completed"
    },
    "tags": []
   },
   "outputs": [],
   "source": [
    "ensemble_model = EnsembleModel(regnet_v6, regnet_v4, regnet_1000x400, densenet)\n",
    "\n",
    "for param in ensemble_model.parameters():\n",
    "    param.requires_grad = False\n",
    "\n",
    "for param in ensemble_model.classifier.parameters():\n",
    "    param.requires_grad = True    \n",
    "\n",
    "ensemble_model = ensemble_model.to(\"cuda:0\" if torch.cuda.is_available() else \"cpu\")"
   ]
  },
  {
   "cell_type": "code",
   "execution_count": 8,
   "id": "baf2a544",
   "metadata": {
    "execution": {
     "iopub.execute_input": "2022-12-01T00:49:02.255510Z",
     "iopub.status.busy": "2022-12-01T00:49:02.255213Z",
     "iopub.status.idle": "2022-12-01T00:49:02.267021Z",
     "shell.execute_reply": "2022-12-01T00:49:02.266136Z"
    },
    "papermill": {
     "duration": 0.017182,
     "end_time": "2022-12-01T00:49:02.268975",
     "exception": false,
     "start_time": "2022-12-01T00:49:02.251793",
     "status": "completed"
    },
    "tags": []
   },
   "outputs": [],
   "source": [
    "lossFun = nn.NLLLoss()\n",
    "optimizer = optim.SGD(ensemble_model.parameters(), lr=0.007, momentum=0.9)\n",
    "lrscheduler = optim.lr_scheduler.ReduceLROnPlateau(optimizer, mode='max', patience=2, threshold = 0.9)"
   ]
  },
  {
   "cell_type": "code",
   "execution_count": 9,
   "id": "33d39d47",
   "metadata": {
    "execution": {
     "iopub.execute_input": "2022-12-01T00:49:02.275747Z",
     "iopub.status.busy": "2022-12-01T00:49:02.275477Z",
     "iopub.status.idle": "2022-12-01T05:02:28.618878Z",
     "shell.execute_reply": "2022-12-01T05:02:28.617409Z"
    },
    "papermill": {
     "duration": 15206.357855,
     "end_time": "2022-12-01T05:02:28.629434",
     "exception": false,
     "start_time": "2022-12-01T00:49:02.271579",
     "status": "completed"
    },
    "tags": []
   },
   "outputs": [
    {
     "name": "stdout",
     "output_type": "stream",
     "text": [
      "0\n",
      "45239.0 46374\n",
      "Epoch 1, Time Used: 665 s, loss: 0.0031, acc: 97.5525\n",
      "1\n",
      "45611.0 46374\n",
      "Epoch 2, Time Used: 604 s, loss: 0.0020, acc: 98.3547\n",
      "2\n",
      "45649.0 46374\n",
      "Epoch 3, Time Used: 605 s, loss: 0.0020, acc: 98.4366\n",
      "3\n",
      "45636.0 46374\n",
      "Epoch 4, Time Used: 604 s, loss: 0.0022, acc: 98.4086\n",
      "4\n",
      "45858.0 46374\n",
      "Epoch 5, Time Used: 604 s, loss: 0.0012, acc: 98.8873\n",
      "5\n",
      "45881.0 46374\n",
      "Epoch 6, Time Used: 606 s, loss: 0.0010, acc: 98.9369\n",
      "6\n",
      "45860.0 46374\n",
      "Epoch 7, Time Used: 606 s, loss: 0.0010, acc: 98.8916\n",
      "7\n",
      "45871.0 46374\n",
      "Epoch 8, Time Used: 603 s, loss: 0.0010, acc: 98.9153\n",
      "8\n",
      "45906.0 46374\n",
      "Epoch 9, Time Used: 602 s, loss: 0.0009, acc: 98.9908\n",
      "9\n",
      "45884.0 46374\n",
      "Epoch 10, Time Used: 604 s, loss: 0.0009, acc: 98.9434\n",
      "10\n",
      "45878.0 46374\n",
      "Epoch 11, Time Used: 606 s, loss: 0.0009, acc: 98.9304\n",
      "11\n",
      "45861.0 46374\n",
      "Epoch 12, Time Used: 605 s, loss: 0.0010, acc: 98.8938\n",
      "12\n",
      "45901.0 46374\n",
      "Epoch 13, Time Used: 605 s, loss: 0.0009, acc: 98.9800\n",
      "13\n",
      "45881.0 46374\n",
      "Epoch 14, Time Used: 603 s, loss: 0.0009, acc: 98.9369\n",
      "14\n",
      "45895.0 46374\n",
      "Epoch 15, Time Used: 606 s, loss: 0.0009, acc: 98.9671\n",
      "15\n",
      "45916.0 46374\n",
      "Epoch 16, Time Used: 605 s, loss: 0.0009, acc: 99.0124\n",
      "16\n",
      "45913.0 46374\n",
      "Epoch 17, Time Used: 605 s, loss: 0.0009, acc: 99.0059\n",
      "17\n",
      "45900.0 46374\n",
      "Epoch 18, Time Used: 611 s, loss: 0.0009, acc: 98.9779\n",
      "18\n",
      "45873.0 46374\n",
      "Epoch 19, Time Used: 607 s, loss: 0.0009, acc: 98.9197\n",
      "19\n",
      "45910.0 46374\n",
      "Epoch 20, Time Used: 606 s, loss: 0.0009, acc: 98.9994\n",
      "20\n",
      "45897.0 46374\n",
      "Epoch 21, Time Used: 607 s, loss: 0.0009, acc: 98.9714\n",
      "21\n",
      "45893.0 46374\n",
      "Epoch 22, Time Used: 606 s, loss: 0.0009, acc: 98.9628\n",
      "22\n",
      "45882.0 46374\n",
      "Epoch 23, Time Used: 608 s, loss: 0.0009, acc: 98.9391\n",
      "23\n",
      "45877.0 46374\n",
      "Epoch 24, Time Used: 605 s, loss: 0.0010, acc: 98.9283\n",
      "24\n",
      "45885.0 46374\n",
      "Epoch 25, Time Used: 605 s, loss: 0.0009, acc: 98.9455\n",
      "Training Finished\n"
     ]
    }
   ],
   "source": [
    "model, training_losses, training_accs = TrainModel(ensemble_model, lossFun, optimizer, lrscheduler, n_epochs=25)"
   ]
  },
  {
   "cell_type": "code",
   "execution_count": 10,
   "id": "92f63144",
   "metadata": {
    "execution": {
     "iopub.execute_input": "2022-12-01T05:02:28.639096Z",
     "iopub.status.busy": "2022-12-01T05:02:28.638744Z",
     "iopub.status.idle": "2022-12-01T05:02:29.635665Z",
     "shell.execute_reply": "2022-12-01T05:02:29.634681Z"
    },
    "papermill": {
     "duration": 1.004559,
     "end_time": "2022-12-01T05:02:29.638067",
     "exception": false,
     "start_time": "2022-12-01T05:02:28.633508",
     "status": "completed"
    },
    "tags": []
   },
   "outputs": [],
   "source": [
    "model.eval()\n",
    "torch.save(model, \"file.pt\")"
   ]
  }
 ],
 "metadata": {
  "kernelspec": {
   "display_name": "Python 3",
   "language": "python",
   "name": "python3"
  },
  "language_info": {
   "codemirror_mode": {
    "name": "ipython",
    "version": 3
   },
   "file_extension": ".py",
   "mimetype": "text/x-python",
   "name": "python",
   "nbconvert_exporter": "python",
   "pygments_lexer": "ipython3",
   "version": "3.7.12"
  },
  "papermill": {
   "default_parameters": {},
   "duration": 15253.250333,
   "end_time": "2022-12-01T05:02:31.109870",
   "environment_variables": {},
   "exception": null,
   "input_path": "__notebook__.ipynb",
   "output_path": "__notebook__.ipynb",
   "parameters": {},
   "start_time": "2022-12-01T00:48:17.859537",
   "version": "2.3.4"
  }
 },
 "nbformat": 4,
 "nbformat_minor": 5
}
