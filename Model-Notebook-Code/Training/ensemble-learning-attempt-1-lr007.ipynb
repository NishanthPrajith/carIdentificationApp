{
 "cells": [
  {
   "cell_type": "code",
   "execution_count": 1,
   "id": "d7064539",
   "metadata": {
    "_cell_guid": "b1076dfc-b9ad-4769-8c92-a6c4dae69d19",
    "_uuid": "8f2839f25d086af736a60e9eeb907d3b93b6e0e5",
    "execution": {
     "iopub.execute_input": "2022-11-30T15:09:20.804972Z",
     "iopub.status.busy": "2022-11-30T15:09:20.804439Z",
     "iopub.status.idle": "2022-11-30T15:09:22.746119Z",
     "shell.execute_reply": "2022-11-30T15:09:22.744988Z"
    },
    "papermill": {
     "duration": 1.950011,
     "end_time": "2022-11-30T15:09:22.748991",
     "exception": false,
     "start_time": "2022-11-30T15:09:20.798980",
     "status": "completed"
    },
    "tags": []
   },
   "outputs": [
    {
     "name": "stdout",
     "output_type": "stream",
     "text": [
      "cuda:0\n"
     ]
    }
   ],
   "source": [
    "# Import libs\n",
    "import matplotlib.pyplot as plt\n",
    "import numpy as np\n",
    "import pandas as pd\n",
    "import torch\n",
    "import torch.nn as nn\n",
    "import torch.optim as optim\n",
    "import torchvision\n",
    "import torchvision.models as models\n",
    "import torchvision.transforms as transforms\n",
    "import time\n",
    "import os\n",
    "import PIL.Image as Image\n",
    "from IPython.display import display\n",
    "device = torch.device(\"cuda:0\" if torch.cuda.is_available() else \"cpu\")\n",
    "print(device)"
   ]
  },
  {
   "cell_type": "code",
   "execution_count": 2,
   "id": "7e111d5e",
   "metadata": {
    "execution": {
     "iopub.execute_input": "2022-11-30T15:09:22.756885Z",
     "iopub.status.busy": "2022-11-30T15:09:22.755852Z",
     "iopub.status.idle": "2022-11-30T15:09:22.760989Z",
     "shell.execute_reply": "2022-11-30T15:09:22.760161Z"
    },
    "papermill": {
     "duration": 0.011207,
     "end_time": "2022-11-30T15:09:22.763269",
     "exception": false,
     "start_time": "2022-11-30T15:09:22.752062",
     "status": "completed"
    },
    "tags": []
   },
   "outputs": [],
   "source": [
    "import warnings\n",
    "warnings.filterwarnings(\"ignore\")"
   ]
  },
  {
   "cell_type": "code",
   "execution_count": 3,
   "id": "91e2125f",
   "metadata": {
    "execution": {
     "iopub.execute_input": "2022-11-30T15:09:22.769989Z",
     "iopub.status.busy": "2022-11-30T15:09:22.769625Z",
     "iopub.status.idle": "2022-11-30T15:09:35.030034Z",
     "shell.execute_reply": "2022-11-30T15:09:35.028568Z"
    },
    "papermill": {
     "duration": 12.266916,
     "end_time": "2022-11-30T15:09:35.032892",
     "exception": false,
     "start_time": "2022-11-30T15:09:22.765976",
     "status": "completed"
    },
    "tags": []
   },
   "outputs": [],
   "source": [
    "dataset_dir_train = \"../input/training-dataset-v6/finalDataset\"\n",
    "\n",
    "train_transform = transforms.Compose([transforms.Resize(256),\n",
    "                                      transforms.CenterCrop(224),\n",
    "                                 transforms.RandomRotation(20),\n",
    "                                 transforms.RandomHorizontalFlip(),\n",
    "                                 transforms.ToTensor(),\n",
    "                                 transforms.Normalize((0.485, 0.456, 0.406), (0.229, 0.224, 0.225))])\n",
    "\n",
    "\n",
    "dataset = torchvision.datasets.ImageFolder(root=dataset_dir_train, transform = train_transform)\n",
    "trainloader = torch.utils.data.DataLoader(dataset, batch_size = 32, shuffle=True, num_workers = 2)"
   ]
  },
  {
   "cell_type": "code",
   "execution_count": 4,
   "id": "28a25737",
   "metadata": {
    "execution": {
     "iopub.execute_input": "2022-11-30T15:09:35.041776Z",
     "iopub.status.busy": "2022-11-30T15:09:35.041157Z",
     "iopub.status.idle": "2022-11-30T15:09:35.053159Z",
     "shell.execute_reply": "2022-11-30T15:09:35.052185Z"
    },
    "papermill": {
     "duration": 0.018794,
     "end_time": "2022-11-30T15:09:35.055432",
     "exception": false,
     "start_time": "2022-11-30T15:09:35.036638",
     "status": "completed"
    },
    "tags": []
   },
   "outputs": [],
   "source": [
    "# function to train the model\n",
    "def TrainModel(model, lossFun, optimizer, scheduler, n_epochs=5):\n",
    "    losses = []\n",
    "    accuracies = []\n",
    "    \n",
    "    model.train()\n",
    "    \n",
    "    for epoch in range(n_epochs):\n",
    "        print(epoch)\n",
    "        since = time.time() # record the start time\n",
    "        running_loss = 0.0\n",
    "        running_correct = 0.0\n",
    "        counter = 0\n",
    "        for i, data in enumerate(trainloader, 0):\n",
    "            \n",
    "            inputs, labels = data\n",
    "            # Asigning GPU\n",
    "            inputs = inputs.to(device)\n",
    "            labels = labels.to(device)\n",
    "            \n",
    "            optimizer.zero_grad()\n",
    "            counter += len(inputs)\n",
    "            outputs = model(inputs)\n",
    "            m = nn.LogSoftmax(dim=1)\n",
    "            _, predicted = torch.max(outputs.data, 1)\n",
    "            loss = lossFun(m(outputs), labels)\n",
    "            loss.backward()\n",
    "            optimizer.step()\n",
    "            \n",
    "            running_loss += loss.item()\n",
    "            running_correct += (labels==predicted).sum().item()\n",
    "\n",
    "        timeSpent = time.time()-since # time used\n",
    "        epoch_loss = running_loss/counter\n",
    "        print(running_correct, counter)\n",
    "        epoch_acc = 100*(running_correct/counter)\n",
    "        print(\"Epoch %s, Time Used: %d s, loss: %.4f, acc: %.4f\" % (epoch+1, timeSpent, epoch_loss, epoch_acc))\n",
    "        \n",
    "        losses.append(epoch_loss)\n",
    "        accuracies.append(epoch_acc)\n",
    "        scheduler.step(epoch_acc)\n",
    "    print('Training Finished')\n",
    "    return model, losses, accuracies"
   ]
  },
  {
   "cell_type": "code",
   "execution_count": 5,
   "id": "e30daf84",
   "metadata": {
    "execution": {
     "iopub.execute_input": "2022-11-30T15:09:35.064568Z",
     "iopub.status.busy": "2022-11-30T15:09:35.062757Z",
     "iopub.status.idle": "2022-11-30T15:09:35.070613Z",
     "shell.execute_reply": "2022-11-30T15:09:35.069606Z"
    },
    "papermill": {
     "duration": 0.014258,
     "end_time": "2022-11-30T15:09:35.072811",
     "exception": false,
     "start_time": "2022-11-30T15:09:35.058553",
     "status": "completed"
    },
    "tags": []
   },
   "outputs": [],
   "source": [
    "class EnsembleModel(nn.Module):   \n",
    "    def __init__(self, modelA, modelB, modelC):\n",
    "        super().__init__()\n",
    "        self.modelA = modelA\n",
    "        self.modelB = modelB\n",
    "        self.modelC = modelC\n",
    "        self.classifier = nn.Linear(23 * 3, 23)\n",
    "        \n",
    "    def forward(self, x):\n",
    "        x1 = self.modelA(x)\n",
    "        x2 = self.modelB(x)\n",
    "        x3 = self.modelC(x)\n",
    "        x = torch.cat((x1, x2, x3), dim=1)\n",
    "        out = self.classifier(x)\n",
    "        return out"
   ]
  },
  {
   "cell_type": "code",
   "execution_count": 6,
   "id": "175adc33",
   "metadata": {
    "execution": {
     "iopub.execute_input": "2022-11-30T15:09:35.081399Z",
     "iopub.status.busy": "2022-11-30T15:09:35.079760Z",
     "iopub.status.idle": "2022-11-30T15:09:40.676064Z",
     "shell.execute_reply": "2022-11-30T15:09:40.675087Z"
    },
    "papermill": {
     "duration": 5.602898,
     "end_time": "2022-11-30T15:09:40.678717",
     "exception": false,
     "start_time": "2022-11-30T15:09:35.075819",
     "status": "completed"
    },
    "tags": []
   },
   "outputs": [],
   "source": [
    "regnet_v6 = torch.load(\"../input/models/regnet_y_3_2gf_v6.pt\", torch.device(\"cuda:0\" if torch.cuda.is_available() else \"cpu\"))\n",
    "regnet_v4 = torch.load(\"../input/models/regnet_y_3_2gf_v4.pt\", torch.device(\"cuda:0\" if torch.cuda.is_available() else \"cpu\"))\n",
    "regnet_1000x400 = torch.load(\"../input/models/regnet_y_3_2gf_v(1000 x 400 x 23).pt\", torch.device(\"cuda:0\" if torch.cuda.is_available() else \"cpu\"))"
   ]
  },
  {
   "cell_type": "code",
   "execution_count": 7,
   "id": "7f7b02e6",
   "metadata": {
    "execution": {
     "iopub.execute_input": "2022-11-30T15:09:40.686750Z",
     "iopub.status.busy": "2022-11-30T15:09:40.686312Z",
     "iopub.status.idle": "2022-11-30T15:09:40.710845Z",
     "shell.execute_reply": "2022-11-30T15:09:40.710019Z"
    },
    "papermill": {
     "duration": 0.030794,
     "end_time": "2022-11-30T15:09:40.713033",
     "exception": false,
     "start_time": "2022-11-30T15:09:40.682239",
     "status": "completed"
    },
    "tags": []
   },
   "outputs": [],
   "source": [
    "ensemble_model = EnsembleModel(regnet_v6, regnet_v4, regnet_1000x400)\n",
    "\n",
    "for param in ensemble_model.parameters():\n",
    "    param.requires_grad = False\n",
    "\n",
    "for param in ensemble_model.classifier.parameters():\n",
    "    param.requires_grad = True    \n",
    "\n",
    "ensemble_model = ensemble_model.to(\"cuda:0\" if torch.cuda.is_available() else \"cpu\")"
   ]
  },
  {
   "cell_type": "code",
   "execution_count": 8,
   "id": "1ca4202d",
   "metadata": {
    "execution": {
     "iopub.execute_input": "2022-11-30T15:09:40.719715Z",
     "iopub.status.busy": "2022-11-30T15:09:40.719431Z",
     "iopub.status.idle": "2022-11-30T15:09:40.730150Z",
     "shell.execute_reply": "2022-11-30T15:09:40.729269Z"
    },
    "papermill": {
     "duration": 0.016312,
     "end_time": "2022-11-30T15:09:40.732080",
     "exception": false,
     "start_time": "2022-11-30T15:09:40.715768",
     "status": "completed"
    },
    "tags": []
   },
   "outputs": [],
   "source": [
    "lossFun = nn.NLLLoss()\n",
    "optimizer = optim.SGD(ensemble_model.parameters(), lr=0.007, momentum=0.9)\n",
    "lrscheduler = optim.lr_scheduler.ReduceLROnPlateau(optimizer, mode='max', patience=2, threshold = 0.9)"
   ]
  },
  {
   "cell_type": "code",
   "execution_count": 9,
   "id": "0ab654c6",
   "metadata": {
    "execution": {
     "iopub.execute_input": "2022-11-30T15:09:40.738532Z",
     "iopub.status.busy": "2022-11-30T15:09:40.738223Z",
     "iopub.status.idle": "2022-11-30T18:49:10.834614Z",
     "shell.execute_reply": "2022-11-30T18:49:10.833353Z"
    },
    "papermill": {
     "duration": 13170.104203,
     "end_time": "2022-11-30T18:49:10.838966",
     "exception": false,
     "start_time": "2022-11-30T15:09:40.734763",
     "status": "completed"
    },
    "tags": []
   },
   "outputs": [
    {
     "name": "stdout",
     "output_type": "stream",
     "text": [
      "0\n",
      "45130.0 46374\n",
      "Epoch 1, Time Used: 589 s, loss: 0.0031, acc: 97.3175\n",
      "1\n",
      "45491.0 46374\n",
      "Epoch 2, Time Used: 526 s, loss: 0.0022, acc: 98.0959\n",
      "2\n",
      "45536.0 46374\n",
      "Epoch 3, Time Used: 525 s, loss: 0.0021, acc: 98.1930\n",
      "3\n",
      "45537.0 46374\n",
      "Epoch 4, Time Used: 523 s, loss: 0.0021, acc: 98.1951\n",
      "4\n",
      "45740.0 46374\n",
      "Epoch 5, Time Used: 522 s, loss: 0.0013, acc: 98.6329\n",
      "5\n",
      "45760.0 46374\n",
      "Epoch 6, Time Used: 519 s, loss: 0.0012, acc: 98.6760\n",
      "6\n",
      "45745.0 46374\n",
      "Epoch 7, Time Used: 522 s, loss: 0.0011, acc: 98.6436\n",
      "7\n",
      "45787.0 46374\n",
      "Epoch 8, Time Used: 523 s, loss: 0.0010, acc: 98.7342\n",
      "8\n",
      "45751.0 46374\n",
      "Epoch 9, Time Used: 523 s, loss: 0.0011, acc: 98.6566\n",
      "9\n",
      "45753.0 46374\n",
      "Epoch 10, Time Used: 521 s, loss: 0.0011, acc: 98.6609\n",
      "10\n",
      "45780.0 46374\n",
      "Epoch 11, Time Used: 522 s, loss: 0.0011, acc: 98.7191\n",
      "11\n",
      "45769.0 46374\n",
      "Epoch 12, Time Used: 520 s, loss: 0.0010, acc: 98.6954\n",
      "12\n",
      "45794.0 46374\n",
      "Epoch 13, Time Used: 522 s, loss: 0.0011, acc: 98.7493\n",
      "13\n",
      "45762.0 46374\n",
      "Epoch 14, Time Used: 525 s, loss: 0.0011, acc: 98.6803\n",
      "14\n",
      "45767.0 46374\n",
      "Epoch 15, Time Used: 523 s, loss: 0.0011, acc: 98.6911\n",
      "15\n",
      "45786.0 46374\n",
      "Epoch 16, Time Used: 523 s, loss: 0.0010, acc: 98.7320\n",
      "16\n",
      "45793.0 46374\n",
      "Epoch 17, Time Used: 525 s, loss: 0.0010, acc: 98.7471\n",
      "17\n",
      "45767.0 46374\n",
      "Epoch 18, Time Used: 523 s, loss: 0.0010, acc: 98.6911\n",
      "18\n",
      "45770.0 46374\n",
      "Epoch 19, Time Used: 526 s, loss: 0.0010, acc: 98.6975\n",
      "19\n",
      "45786.0 46374\n",
      "Epoch 20, Time Used: 524 s, loss: 0.0010, acc: 98.7320\n",
      "20\n",
      "45784.0 46374\n",
      "Epoch 21, Time Used: 524 s, loss: 0.0010, acc: 98.7277\n",
      "21\n",
      "45771.0 46374\n",
      "Epoch 22, Time Used: 524 s, loss: 0.0011, acc: 98.6997\n",
      "22\n",
      "45743.0 46374\n",
      "Epoch 23, Time Used: 526 s, loss: 0.0011, acc: 98.6393\n",
      "23\n",
      "45762.0 46374\n",
      "Epoch 24, Time Used: 528 s, loss: 0.0011, acc: 98.6803\n",
      "24\n",
      "45746.0 46374\n",
      "Epoch 25, Time Used: 530 s, loss: 0.0011, acc: 98.6458\n",
      "Training Finished\n"
     ]
    }
   ],
   "source": [
    "model, training_losses, training_accs = TrainModel(ensemble_model, lossFun, optimizer, lrscheduler, n_epochs=25)"
   ]
  },
  {
   "cell_type": "code",
   "execution_count": 10,
   "id": "e88773df",
   "metadata": {
    "execution": {
     "iopub.execute_input": "2022-11-30T18:49:10.854030Z",
     "iopub.status.busy": "2022-11-30T18:49:10.853482Z",
     "iopub.status.idle": "2022-11-30T18:49:11.672200Z",
     "shell.execute_reply": "2022-11-30T18:49:11.671263Z"
    },
    "papermill": {
     "duration": 0.829032,
     "end_time": "2022-11-30T18:49:11.674640",
     "exception": false,
     "start_time": "2022-11-30T18:49:10.845608",
     "status": "completed"
    },
    "tags": []
   },
   "outputs": [],
   "source": [
    "model.eval()\n",
    "torch.save(model, \"file.pt\")"
   ]
  }
 ],
 "metadata": {
  "kernelspec": {
   "display_name": "Python 3",
   "language": "python",
   "name": "python3"
  },
  "language_info": {
   "codemirror_mode": {
    "name": "ipython",
    "version": 3
   },
   "file_extension": ".py",
   "mimetype": "text/x-python",
   "name": "python",
   "nbconvert_exporter": "python",
   "pygments_lexer": "ipython3",
   "version": "3.7.12"
  },
  "papermill": {
   "default_parameters": {},
   "duration": 13200.678761,
   "end_time": "2022-11-30T18:49:13.901877",
   "environment_variables": {},
   "exception": null,
   "input_path": "__notebook__.ipynb",
   "output_path": "__notebook__.ipynb",
   "parameters": {},
   "start_time": "2022-11-30T15:09:13.223116",
   "version": "2.3.4"
  }
 },
 "nbformat": 4,
 "nbformat_minor": 5
}
