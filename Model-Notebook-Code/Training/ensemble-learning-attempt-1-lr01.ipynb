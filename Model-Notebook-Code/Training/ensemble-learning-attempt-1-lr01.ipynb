{
 "cells": [
  {
   "cell_type": "code",
   "execution_count": 1,
   "id": "278ffa23",
   "metadata": {
    "_cell_guid": "b1076dfc-b9ad-4769-8c92-a6c4dae69d19",
    "_uuid": "8f2839f25d086af736a60e9eeb907d3b93b6e0e5",
    "execution": {
     "iopub.execute_input": "2022-11-30T15:09:18.063303Z",
     "iopub.status.busy": "2022-11-30T15:09:18.062503Z",
     "iopub.status.idle": "2022-11-30T15:09:20.794252Z",
     "shell.execute_reply": "2022-11-30T15:09:20.792212Z"
    },
    "papermill": {
     "duration": 2.744322,
     "end_time": "2022-11-30T15:09:20.798333",
     "exception": false,
     "start_time": "2022-11-30T15:09:18.054011",
     "status": "completed"
    },
    "tags": []
   },
   "outputs": [
    {
     "name": "stdout",
     "output_type": "stream",
     "text": [
      "cuda:0\n"
     ]
    }
   ],
   "source": [
    "# Import libs\n",
    "import matplotlib.pyplot as plt\n",
    "import numpy as np\n",
    "import pandas as pd\n",
    "import torch\n",
    "import torch.nn as nn\n",
    "import torch.optim as optim\n",
    "import torchvision\n",
    "import torchvision.models as models\n",
    "import torchvision.transforms as transforms\n",
    "import time\n",
    "import os\n",
    "import PIL.Image as Image\n",
    "from IPython.display import display\n",
    "device = torch.device(\"cuda:0\" if torch.cuda.is_available() else \"cpu\")\n",
    "print(device)"
   ]
  },
  {
   "cell_type": "code",
   "execution_count": 2,
   "id": "4c62f656",
   "metadata": {
    "execution": {
     "iopub.execute_input": "2022-11-30T15:09:20.812474Z",
     "iopub.status.busy": "2022-11-30T15:09:20.811648Z",
     "iopub.status.idle": "2022-11-30T15:09:20.819302Z",
     "shell.execute_reply": "2022-11-30T15:09:20.817566Z"
    },
    "papermill": {
     "duration": 0.021859,
     "end_time": "2022-11-30T15:09:20.826541",
     "exception": false,
     "start_time": "2022-11-30T15:09:20.804682",
     "status": "completed"
    },
    "tags": []
   },
   "outputs": [],
   "source": [
    "import warnings\n",
    "warnings.filterwarnings(\"ignore\")"
   ]
  },
  {
   "cell_type": "code",
   "execution_count": 3,
   "id": "afbb651d",
   "metadata": {
    "execution": {
     "iopub.execute_input": "2022-11-30T15:09:20.841370Z",
     "iopub.status.busy": "2022-11-30T15:09:20.839965Z",
     "iopub.status.idle": "2022-11-30T15:10:17.499253Z",
     "shell.execute_reply": "2022-11-30T15:10:17.498160Z"
    },
    "papermill": {
     "duration": 56.669194,
     "end_time": "2022-11-30T15:10:17.501888",
     "exception": false,
     "start_time": "2022-11-30T15:09:20.832694",
     "status": "completed"
    },
    "tags": []
   },
   "outputs": [],
   "source": [
    "dataset_dir_train = \"../input/training-dataset-v6/finalDataset\"\n",
    "\n",
    "train_transform = transforms.Compose([transforms.Resize(256),\n",
    "                                      transforms.CenterCrop(224),\n",
    "                                 transforms.RandomRotation(20),\n",
    "                                 transforms.RandomHorizontalFlip(),\n",
    "                                 transforms.ToTensor(),\n",
    "                                 transforms.Normalize((0.485, 0.456, 0.406), (0.229, 0.224, 0.225))])\n",
    "\n",
    "\n",
    "dataset = torchvision.datasets.ImageFolder(root=dataset_dir_train, transform = train_transform)\n",
    "trainloader = torch.utils.data.DataLoader(dataset, batch_size = 32, shuffle=True, num_workers = 2)"
   ]
  },
  {
   "cell_type": "code",
   "execution_count": 4,
   "id": "09ca6969",
   "metadata": {
    "execution": {
     "iopub.execute_input": "2022-11-30T15:10:17.510199Z",
     "iopub.status.busy": "2022-11-30T15:10:17.509308Z",
     "iopub.status.idle": "2022-11-30T15:10:17.519238Z",
     "shell.execute_reply": "2022-11-30T15:10:17.518119Z"
    },
    "papermill": {
     "duration": 0.016462,
     "end_time": "2022-11-30T15:10:17.521467",
     "exception": false,
     "start_time": "2022-11-30T15:10:17.505005",
     "status": "completed"
    },
    "tags": []
   },
   "outputs": [],
   "source": [
    "# function to train the model\n",
    "def TrainModel(model, lossFun, optimizer, scheduler, n_epochs=5):\n",
    "    losses = []\n",
    "    accuracies = []\n",
    "    \n",
    "    model.train()\n",
    "    \n",
    "    for epoch in range(n_epochs):\n",
    "        print(epoch)\n",
    "        since = time.time() # record the start time\n",
    "        running_loss = 0.0\n",
    "        running_correct = 0.0\n",
    "        counter = 0\n",
    "        for i, data in enumerate(trainloader, 0):\n",
    "            \n",
    "            inputs, labels = data\n",
    "            # Asigning GPU\n",
    "            inputs = inputs.to(device)\n",
    "            labels = labels.to(device)\n",
    "            \n",
    "            optimizer.zero_grad()\n",
    "            counter += len(inputs)\n",
    "            outputs = model(inputs)\n",
    "            m = nn.LogSoftmax(dim=1)\n",
    "            _, predicted = torch.max(outputs.data, 1)\n",
    "            loss = lossFun(m(outputs), labels)\n",
    "            loss.backward()\n",
    "            optimizer.step()\n",
    "            \n",
    "            running_loss += loss.item()\n",
    "            running_correct += (labels==predicted).sum().item()\n",
    "\n",
    "        timeSpent = time.time()-since # time used\n",
    "        epoch_loss = running_loss/counter\n",
    "        print(running_correct, counter)\n",
    "        epoch_acc = 100*(running_correct/counter)\n",
    "        print(\"Epoch %s, Time Used: %d s, loss: %.4f, acc: %.4f\" % (epoch+1, timeSpent, epoch_loss, epoch_acc))\n",
    "        \n",
    "        losses.append(epoch_loss)\n",
    "        accuracies.append(epoch_acc)\n",
    "        scheduler.step(epoch_acc)\n",
    "    print('Training Finished')\n",
    "    return model, losses, accuracies"
   ]
  },
  {
   "cell_type": "code",
   "execution_count": 5,
   "id": "7fb5965c",
   "metadata": {
    "execution": {
     "iopub.execute_input": "2022-11-30T15:10:17.528590Z",
     "iopub.status.busy": "2022-11-30T15:10:17.528047Z",
     "iopub.status.idle": "2022-11-30T15:10:17.535926Z",
     "shell.execute_reply": "2022-11-30T15:10:17.535030Z"
    },
    "papermill": {
     "duration": 0.014294,
     "end_time": "2022-11-30T15:10:17.538478",
     "exception": false,
     "start_time": "2022-11-30T15:10:17.524184",
     "status": "completed"
    },
    "tags": []
   },
   "outputs": [],
   "source": [
    "class EnsembleModel(nn.Module):   \n",
    "    def __init__(self, modelA, modelB, modelC):\n",
    "        super().__init__()\n",
    "        self.modelA = modelA\n",
    "        self.modelB = modelB\n",
    "        self.modelC = modelC\n",
    "        self.classifier = nn.Linear(23 * 3, 23)\n",
    "        \n",
    "    def forward(self, x):\n",
    "        x1 = self.modelA(x)\n",
    "        x2 = self.modelB(x)\n",
    "        x3 = self.modelC(x)\n",
    "        x = torch.cat((x1, x2, x3), dim=1)\n",
    "        out = self.classifier(x)\n",
    "        return out"
   ]
  },
  {
   "cell_type": "code",
   "execution_count": 6,
   "id": "71dc28a0",
   "metadata": {
    "execution": {
     "iopub.execute_input": "2022-11-30T15:10:17.545003Z",
     "iopub.status.busy": "2022-11-30T15:10:17.544737Z",
     "iopub.status.idle": "2022-11-30T15:10:24.115751Z",
     "shell.execute_reply": "2022-11-30T15:10:24.114713Z"
    },
    "papermill": {
     "duration": 6.577833,
     "end_time": "2022-11-30T15:10:24.119050",
     "exception": false,
     "start_time": "2022-11-30T15:10:17.541217",
     "status": "completed"
    },
    "tags": []
   },
   "outputs": [],
   "source": [
    "regnet_v6 = torch.load(\"../input/models/regnet_y_3_2gf_v6.pt\", torch.device(\"cuda:0\" if torch.cuda.is_available() else \"cpu\"))\n",
    "regnet_v4 = torch.load(\"../input/models/regnet_y_3_2gf_v4.pt\", torch.device(\"cuda:0\" if torch.cuda.is_available() else \"cpu\"))\n",
    "regnet_1000x400 = torch.load(\"../input/models/regnet_y_3_2gf_v(1000 x 400 x 23).pt\", torch.device(\"cuda:0\" if torch.cuda.is_available() else \"cpu\"))"
   ]
  },
  {
   "cell_type": "code",
   "execution_count": 7,
   "id": "8df90be9",
   "metadata": {
    "execution": {
     "iopub.execute_input": "2022-11-30T15:10:24.129617Z",
     "iopub.status.busy": "2022-11-30T15:10:24.128984Z",
     "iopub.status.idle": "2022-11-30T15:10:24.162165Z",
     "shell.execute_reply": "2022-11-30T15:10:24.161377Z"
    },
    "papermill": {
     "duration": 0.041001,
     "end_time": "2022-11-30T15:10:24.164734",
     "exception": false,
     "start_time": "2022-11-30T15:10:24.123733",
     "status": "completed"
    },
    "tags": []
   },
   "outputs": [],
   "source": [
    "ensemble_model = EnsembleModel(regnet_v6, regnet_v4, regnet_1000x400)\n",
    "\n",
    "for param in ensemble_model.parameters():\n",
    "    param.requires_grad = False\n",
    "\n",
    "for param in ensemble_model.classifier.parameters():\n",
    "    param.requires_grad = True    \n",
    "\n",
    "ensemble_model = ensemble_model.to(\"cuda:0\" if torch.cuda.is_available() else \"cpu\")"
   ]
  },
  {
   "cell_type": "code",
   "execution_count": 8,
   "id": "d7bd5757",
   "metadata": {
    "execution": {
     "iopub.execute_input": "2022-11-30T15:10:24.174905Z",
     "iopub.status.busy": "2022-11-30T15:10:24.174275Z",
     "iopub.status.idle": "2022-11-30T15:10:24.190131Z",
     "shell.execute_reply": "2022-11-30T15:10:24.189254Z"
    },
    "papermill": {
     "duration": 0.023649,
     "end_time": "2022-11-30T15:10:24.192655",
     "exception": false,
     "start_time": "2022-11-30T15:10:24.169006",
     "status": "completed"
    },
    "tags": []
   },
   "outputs": [],
   "source": [
    "lossFun = nn.NLLLoss()\n",
    "optimizer = optim.SGD(ensemble_model.parameters(), lr=0.01, momentum=0.9)\n",
    "lrscheduler = optim.lr_scheduler.ReduceLROnPlateau(optimizer, mode='max', patience=2, threshold = 0.9)"
   ]
  },
  {
   "cell_type": "code",
   "execution_count": 9,
   "id": "68c2ae9a",
   "metadata": {
    "execution": {
     "iopub.execute_input": "2022-11-30T15:10:24.202349Z",
     "iopub.status.busy": "2022-11-30T15:10:24.201819Z",
     "iopub.status.idle": "2022-11-30T19:45:06.032480Z",
     "shell.execute_reply": "2022-11-30T19:45:06.030785Z"
    },
    "papermill": {
     "duration": 16481.844395,
     "end_time": "2022-11-30T19:45:06.040938",
     "exception": false,
     "start_time": "2022-11-30T15:10:24.196543",
     "status": "completed"
    },
    "tags": []
   },
   "outputs": [
    {
     "name": "stdout",
     "output_type": "stream",
     "text": [
      "0\n",
      "45119.0 46374\n",
      "Epoch 1, Time Used: 734 s, loss: 0.0039, acc: 97.2937\n",
      "1\n",
      "45468.0 46374\n",
      "Epoch 2, Time Used: 650 s, loss: 0.0028, acc: 98.0463\n",
      "2\n",
      "45480.0 46374\n",
      "Epoch 3, Time Used: 660 s, loss: 0.0028, acc: 98.0722\n",
      "3\n",
      "45499.0 46374\n",
      "Epoch 4, Time Used: 660 s, loss: 0.0028, acc: 98.1132\n",
      "4\n",
      "45695.0 46374\n",
      "Epoch 5, Time Used: 661 s, loss: 0.0016, acc: 98.5358\n",
      "5\n",
      "45746.0 46374\n",
      "Epoch 6, Time Used: 656 s, loss: 0.0013, acc: 98.6458\n",
      "6\n",
      "45725.0 46374\n",
      "Epoch 7, Time Used: 660 s, loss: 0.0013, acc: 98.6005\n",
      "7\n",
      "45749.0 46374\n",
      "Epoch 8, Time Used: 661 s, loss: 0.0012, acc: 98.6523\n",
      "8\n",
      "45766.0 46374\n",
      "Epoch 9, Time Used: 649 s, loss: 0.0012, acc: 98.6889\n",
      "9\n",
      "45779.0 46374\n",
      "Epoch 10, Time Used: 659 s, loss: 0.0011, acc: 98.7170\n",
      "10\n",
      "45744.0 46374\n",
      "Epoch 11, Time Used: 660 s, loss: 0.0011, acc: 98.6415\n",
      "11\n",
      "45782.0 46374\n",
      "Epoch 12, Time Used: 658 s, loss: 0.0011, acc: 98.7234\n",
      "12\n",
      "45777.0 46374\n",
      "Epoch 13, Time Used: 650 s, loss: 0.0011, acc: 98.7126\n",
      "13\n",
      "45757.0 46374\n",
      "Epoch 14, Time Used: 661 s, loss: 0.0011, acc: 98.6695\n",
      "14\n",
      "45755.0 46374\n",
      "Epoch 15, Time Used: 657 s, loss: 0.0011, acc: 98.6652\n",
      "15\n",
      "45773.0 46374\n",
      "Epoch 16, Time Used: 656 s, loss: 0.0011, acc: 98.7040\n",
      "16\n",
      "45787.0 46374\n",
      "Epoch 17, Time Used: 659 s, loss: 0.0011, acc: 98.7342\n",
      "17\n",
      "45800.0 46374\n",
      "Epoch 18, Time Used: 623 s, loss: 0.0011, acc: 98.7622\n",
      "18\n",
      "45768.0 46374\n",
      "Epoch 19, Time Used: 653 s, loss: 0.0011, acc: 98.6932\n",
      "19\n",
      "45737.0 46374\n",
      "Epoch 20, Time Used: 659 s, loss: 0.0012, acc: 98.6264\n",
      "20\n",
      "45765.0 46374\n",
      "Epoch 21, Time Used: 660 s, loss: 0.0012, acc: 98.6868\n",
      "21\n",
      "45764.0 46374\n",
      "Epoch 22, Time Used: 659 s, loss: 0.0012, acc: 98.6846\n",
      "22\n",
      "45770.0 46374\n",
      "Epoch 23, Time Used: 657 s, loss: 0.0011, acc: 98.6975\n",
      "23\n",
      "45791.0 46374\n",
      "Epoch 24, Time Used: 655 s, loss: 0.0011, acc: 98.7428\n",
      "24\n",
      "45755.0 46374\n",
      "Epoch 25, Time Used: 654 s, loss: 0.0011, acc: 98.6652\n",
      "Training Finished\n"
     ]
    }
   ],
   "source": [
    "model, training_losses, training_accs = TrainModel(ensemble_model, lossFun, optimizer, lrscheduler, n_epochs=25)"
   ]
  },
  {
   "cell_type": "code",
   "execution_count": 10,
   "id": "9a26c498",
   "metadata": {
    "execution": {
     "iopub.execute_input": "2022-11-30T19:45:06.054455Z",
     "iopub.status.busy": "2022-11-30T19:45:06.053958Z",
     "iopub.status.idle": "2022-11-30T19:45:07.002115Z",
     "shell.execute_reply": "2022-11-30T19:45:07.000802Z"
    },
    "papermill": {
     "duration": 0.958652,
     "end_time": "2022-11-30T19:45:07.005267",
     "exception": false,
     "start_time": "2022-11-30T19:45:06.046615",
     "status": "completed"
    },
    "tags": []
   },
   "outputs": [],
   "source": [
    "model.eval()\n",
    "torch.save(model, \"file.pt\")"
   ]
  }
 ],
 "metadata": {
  "kernelspec": {
   "display_name": "Python 3",
   "language": "python",
   "name": "python3"
  },
  "language_info": {
   "codemirror_mode": {
    "name": "ipython",
    "version": 3
   },
   "file_extension": ".py",
   "mimetype": "text/x-python",
   "name": "python",
   "nbconvert_exporter": "python",
   "pygments_lexer": "ipython3",
   "version": "3.7.12"
  },
  "papermill": {
   "default_parameters": {},
   "duration": 16563.61855,
   "end_time": "2022-11-30T19:45:09.069667",
   "environment_variables": {},
   "exception": null,
   "input_path": "__notebook__.ipynb",
   "output_path": "__notebook__.ipynb",
   "parameters": {},
   "start_time": "2022-11-30T15:09:05.451117",
   "version": "2.3.4"
  }
 },
 "nbformat": 4,
 "nbformat_minor": 5
}
