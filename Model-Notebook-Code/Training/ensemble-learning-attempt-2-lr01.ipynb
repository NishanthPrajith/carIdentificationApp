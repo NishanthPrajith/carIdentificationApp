{
 "cells": [
  {
   "cell_type": "code",
   "execution_count": 1,
   "id": "cb431a10",
   "metadata": {
    "_cell_guid": "b1076dfc-b9ad-4769-8c92-a6c4dae69d19",
    "_uuid": "8f2839f25d086af736a60e9eeb907d3b93b6e0e5",
    "execution": {
     "iopub.execute_input": "2022-12-01T12:48:49.602119Z",
     "iopub.status.busy": "2022-12-01T12:48:49.601627Z",
     "iopub.status.idle": "2022-12-01T12:48:51.572613Z",
     "shell.execute_reply": "2022-12-01T12:48:51.570573Z"
    },
    "papermill": {
     "duration": 1.980325,
     "end_time": "2022-12-01T12:48:51.576015",
     "exception": false,
     "start_time": "2022-12-01T12:48:49.595690",
     "status": "completed"
    },
    "tags": []
   },
   "outputs": [
    {
     "name": "stdout",
     "output_type": "stream",
     "text": [
      "cuda:0\n"
     ]
    }
   ],
   "source": [
    "# Import libs\n",
    "import matplotlib.pyplot as plt\n",
    "import numpy as np\n",
    "import pandas as pd\n",
    "import torch\n",
    "import torch.nn as nn\n",
    "import torch.optim as optim\n",
    "import torchvision\n",
    "import torchvision.models as models\n",
    "import torchvision.transforms as transforms\n",
    "import time\n",
    "import os\n",
    "import PIL.Image as Image\n",
    "from IPython.display import display\n",
    "device = torch.device(\"cuda:0\" if torch.cuda.is_available() else \"cpu\")\n",
    "print(device)"
   ]
  },
  {
   "cell_type": "code",
   "execution_count": 2,
   "id": "c3a53540",
   "metadata": {
    "execution": {
     "iopub.execute_input": "2022-12-01T12:48:51.586089Z",
     "iopub.status.busy": "2022-12-01T12:48:51.585493Z",
     "iopub.status.idle": "2022-12-01T12:48:51.593621Z",
     "shell.execute_reply": "2022-12-01T12:48:51.590764Z"
    },
    "papermill": {
     "duration": 0.016068,
     "end_time": "2022-12-01T12:48:51.596413",
     "exception": false,
     "start_time": "2022-12-01T12:48:51.580345",
     "status": "completed"
    },
    "tags": []
   },
   "outputs": [],
   "source": [
    "import warnings\n",
    "warnings.filterwarnings(\"ignore\")"
   ]
  },
  {
   "cell_type": "code",
   "execution_count": 3,
   "id": "44013f04",
   "metadata": {
    "execution": {
     "iopub.execute_input": "2022-12-01T12:48:51.605494Z",
     "iopub.status.busy": "2022-12-01T12:48:51.605135Z",
     "iopub.status.idle": "2022-12-01T12:49:06.136445Z",
     "shell.execute_reply": "2022-12-01T12:49:06.135214Z"
    },
    "papermill": {
     "duration": 14.53886,
     "end_time": "2022-12-01T12:49:06.139081",
     "exception": false,
     "start_time": "2022-12-01T12:48:51.600221",
     "status": "completed"
    },
    "tags": []
   },
   "outputs": [],
   "source": [
    "dataset_dir_train = \"../input/training-dataset-v6/finalDataset\"\n",
    "\n",
    "train_transform = transforms.Compose([transforms.Resize(256),\n",
    "                                      transforms.CenterCrop(224),\n",
    "                                 transforms.RandomRotation(20),\n",
    "                                 transforms.RandomHorizontalFlip(),\n",
    "                                 transforms.ToTensor(),\n",
    "                                 transforms.Normalize((0.485, 0.456, 0.406), (0.229, 0.224, 0.225))])\n",
    "\n",
    "\n",
    "dataset = torchvision.datasets.ImageFolder(root=dataset_dir_train, transform = train_transform)\n",
    "trainloader = torch.utils.data.DataLoader(dataset, batch_size = 32, shuffle=True, num_workers = 2)"
   ]
  },
  {
   "cell_type": "code",
   "execution_count": 4,
   "id": "952102e4",
   "metadata": {
    "execution": {
     "iopub.execute_input": "2022-12-01T12:49:06.146723Z",
     "iopub.status.busy": "2022-12-01T12:49:06.145891Z",
     "iopub.status.idle": "2022-12-01T12:49:06.155731Z",
     "shell.execute_reply": "2022-12-01T12:49:06.154788Z"
    },
    "papermill": {
     "duration": 0.01577,
     "end_time": "2022-12-01T12:49:06.157828",
     "exception": false,
     "start_time": "2022-12-01T12:49:06.142058",
     "status": "completed"
    },
    "tags": []
   },
   "outputs": [],
   "source": [
    "# function to train the model\n",
    "def TrainModel(model, lossFun, optimizer, scheduler, n_epochs=5):\n",
    "    losses = []\n",
    "    accuracies = []\n",
    "    \n",
    "    model.train()\n",
    "    \n",
    "    for epoch in range(n_epochs):\n",
    "        print(epoch)\n",
    "        since = time.time() # record the start time\n",
    "        running_loss = 0.0\n",
    "        running_correct = 0.0\n",
    "        counter = 0\n",
    "        for i, data in enumerate(trainloader, 0):\n",
    "            \n",
    "            inputs, labels = data\n",
    "            # Asigning GPU\n",
    "            inputs = inputs.to(device)\n",
    "            labels = labels.to(device)\n",
    "            \n",
    "            optimizer.zero_grad()\n",
    "            counter += len(inputs)\n",
    "            outputs = model(inputs)\n",
    "            m = nn.LogSoftmax(dim=1)\n",
    "            _, predicted = torch.max(outputs.data, 1)\n",
    "            loss = lossFun(m(outputs), labels)\n",
    "            loss.backward()\n",
    "            optimizer.step()\n",
    "            \n",
    "            running_loss += loss.item()\n",
    "            running_correct += (labels==predicted).sum().item()\n",
    "\n",
    "        timeSpent = time.time()-since # time used\n",
    "        epoch_loss = running_loss/counter\n",
    "        print(running_correct, counter)\n",
    "        epoch_acc = 100*(running_correct/counter)\n",
    "        print(\"Epoch %s, Time Used: %d s, loss: %.4f, acc: %.4f\" % (epoch+1, timeSpent, epoch_loss, epoch_acc))\n",
    "        \n",
    "        losses.append(epoch_loss)\n",
    "        accuracies.append(epoch_acc)\n",
    "        scheduler.step(epoch_acc)\n",
    "    print('Training Finished')\n",
    "    return model, losses, accuracies"
   ]
  },
  {
   "cell_type": "code",
   "execution_count": 5,
   "id": "cfa27bad",
   "metadata": {
    "execution": {
     "iopub.execute_input": "2022-12-01T12:49:06.164157Z",
     "iopub.status.busy": "2022-12-01T12:49:06.163887Z",
     "iopub.status.idle": "2022-12-01T12:49:06.170554Z",
     "shell.execute_reply": "2022-12-01T12:49:06.169551Z"
    },
    "papermill": {
     "duration": 0.012021,
     "end_time": "2022-12-01T12:49:06.172519",
     "exception": false,
     "start_time": "2022-12-01T12:49:06.160498",
     "status": "completed"
    },
    "tags": []
   },
   "outputs": [],
   "source": [
    "class EnsembleModel(nn.Module):   \n",
    "    def __init__(self, modelA, modelB, modelC, modelD):\n",
    "        super().__init__()\n",
    "        self.modelA = modelA\n",
    "        self.modelB = modelB\n",
    "        self.modelC = modelC\n",
    "        self.modelD = modelD\n",
    "        self.classifier = nn.Linear(23 * 4, 23)\n",
    "        \n",
    "    def forward(self, x):\n",
    "        x1 = self.modelA(x)\n",
    "        x2 = self.modelB(x)\n",
    "        x3 = self.modelC(x)\n",
    "        x4 = self.modelD(x)\n",
    "        x = torch.cat((x1, x2, x3, x4), dim=1)\n",
    "        out = self.classifier(x)\n",
    "        return out"
   ]
  },
  {
   "cell_type": "code",
   "execution_count": 6,
   "id": "edd89087",
   "metadata": {
    "execution": {
     "iopub.execute_input": "2022-12-01T12:49:06.178667Z",
     "iopub.status.busy": "2022-12-01T12:49:06.178404Z",
     "iopub.status.idle": "2022-12-01T12:49:13.481322Z",
     "shell.execute_reply": "2022-12-01T12:49:13.480113Z"
    },
    "papermill": {
     "duration": 7.309065,
     "end_time": "2022-12-01T12:49:13.484147",
     "exception": false,
     "start_time": "2022-12-01T12:49:06.175082",
     "status": "completed"
    },
    "tags": []
   },
   "outputs": [],
   "source": [
    "densenet = torch.load(\"../input/models/model_v5_imgAugmentation_20e.pt\", torch.device(\"cuda:0\" if torch.cuda.is_available() else \"cpu\"))\n",
    "regnet_v6 = torch.load(\"../input/models/regnet_y_3_2gf_v6.pt\", torch.device(\"cuda:0\" if torch.cuda.is_available() else \"cpu\"))\n",
    "regnet_v4 = torch.load(\"../input/models/regnet_y_3_2gf_v4.pt\", torch.device(\"cuda:0\" if torch.cuda.is_available() else \"cpu\"))\n",
    "regnet_1000x400 = torch.load(\"../input/models/regnet_y_3_2gf_v(1000 x 400 x 23).pt\", torch.device(\"cuda:0\" if torch.cuda.is_available() else \"cpu\"))"
   ]
  },
  {
   "cell_type": "code",
   "execution_count": 7,
   "id": "d496e37e",
   "metadata": {
    "execution": {
     "iopub.execute_input": "2022-12-01T12:49:13.491836Z",
     "iopub.status.busy": "2022-12-01T12:49:13.490937Z",
     "iopub.status.idle": "2022-12-01T12:49:13.523634Z",
     "shell.execute_reply": "2022-12-01T12:49:13.522767Z"
    },
    "papermill": {
     "duration": 0.038331,
     "end_time": "2022-12-01T12:49:13.525518",
     "exception": false,
     "start_time": "2022-12-01T12:49:13.487187",
     "status": "completed"
    },
    "tags": []
   },
   "outputs": [],
   "source": [
    "ensemble_model = EnsembleModel(regnet_v6, regnet_v4, regnet_1000x400, densenet)\n",
    "\n",
    "for param in ensemble_model.parameters():\n",
    "    param.requires_grad = False\n",
    "\n",
    "for param in ensemble_model.classifier.parameters():\n",
    "    param.requires_grad = True    \n",
    "\n",
    "ensemble_model = ensemble_model.to(\"cuda:0\" if torch.cuda.is_available() else \"cpu\")"
   ]
  },
  {
   "cell_type": "code",
   "execution_count": 8,
   "id": "bca84465",
   "metadata": {
    "execution": {
     "iopub.execute_input": "2022-12-01T12:49:13.532877Z",
     "iopub.status.busy": "2022-12-01T12:49:13.532053Z",
     "iopub.status.idle": "2022-12-01T12:49:13.545037Z",
     "shell.execute_reply": "2022-12-01T12:49:13.544110Z"
    },
    "papermill": {
     "duration": 0.018677,
     "end_time": "2022-12-01T12:49:13.547113",
     "exception": false,
     "start_time": "2022-12-01T12:49:13.528436",
     "status": "completed"
    },
    "tags": []
   },
   "outputs": [],
   "source": [
    "lossFun = nn.NLLLoss()\n",
    "optimizer = optim.SGD(ensemble_model.parameters(), lr=0.01, momentum=0.9)\n",
    "lrscheduler = optim.lr_scheduler.ReduceLROnPlateau(optimizer, mode='max', patience=2, threshold = 0.9)"
   ]
  },
  {
   "cell_type": "code",
   "execution_count": 9,
   "id": "ec9863fe",
   "metadata": {
    "execution": {
     "iopub.execute_input": "2022-12-01T12:49:13.553506Z",
     "iopub.status.busy": "2022-12-01T12:49:13.553237Z",
     "iopub.status.idle": "2022-12-01T17:03:38.448399Z",
     "shell.execute_reply": "2022-12-01T17:03:38.442759Z"
    },
    "papermill": {
     "duration": 15264.901495,
     "end_time": "2022-12-01T17:03:38.451304",
     "exception": false,
     "start_time": "2022-12-01T12:49:13.549809",
     "status": "completed"
    },
    "tags": []
   },
   "outputs": [
    {
     "name": "stdout",
     "output_type": "stream",
     "text": [
      "0\n",
      "45221.0 46374\n",
      "Epoch 1, Time Used: 648 s, loss: 0.0041, acc: 97.5137\n",
      "1\n",
      "45554.0 46374\n",
      "Epoch 2, Time Used: 610 s, loss: 0.0029, acc: 98.2318\n",
      "2\n",
      "45626.0 46374\n",
      "Epoch 3, Time Used: 608 s, loss: 0.0028, acc: 98.3870\n",
      "3\n",
      "45610.0 46374\n",
      "Epoch 4, Time Used: 609 s, loss: 0.0029, acc: 98.3525\n",
      "4\n",
      "45849.0 46374\n",
      "Epoch 5, Time Used: 605 s, loss: 0.0015, acc: 98.8679\n",
      "5\n",
      "45860.0 46374\n",
      "Epoch 6, Time Used: 610 s, loss: 0.0013, acc: 98.8916\n",
      "6\n",
      "45853.0 46374\n",
      "Epoch 7, Time Used: 615 s, loss: 0.0013, acc: 98.8765\n",
      "7\n",
      "45899.0 46374\n",
      "Epoch 8, Time Used: 608 s, loss: 0.0011, acc: 98.9757\n",
      "8\n",
      "45878.0 46374\n",
      "Epoch 9, Time Used: 610 s, loss: 0.0011, acc: 98.9304\n",
      "9\n",
      "45879.0 46374\n",
      "Epoch 10, Time Used: 611 s, loss: 0.0011, acc: 98.9326\n",
      "10\n",
      "45903.0 46374\n",
      "Epoch 11, Time Used: 609 s, loss: 0.0011, acc: 98.9843\n",
      "11\n",
      "45891.0 46374\n",
      "Epoch 12, Time Used: 609 s, loss: 0.0011, acc: 98.9585\n",
      "12\n",
      "45882.0 46374\n",
      "Epoch 13, Time Used: 611 s, loss: 0.0012, acc: 98.9391\n",
      "13\n",
      "45891.0 46374\n",
      "Epoch 14, Time Used: 608 s, loss: 0.0011, acc: 98.9585\n",
      "14\n",
      "45894.0 46374\n",
      "Epoch 15, Time Used: 609 s, loss: 0.0011, acc: 98.9649\n",
      "15\n",
      "45903.0 46374\n",
      "Epoch 16, Time Used: 606 s, loss: 0.0011, acc: 98.9843\n",
      "16\n",
      "45881.0 46374\n",
      "Epoch 17, Time Used: 610 s, loss: 0.0012, acc: 98.9369\n",
      "17\n",
      "45907.0 46374\n",
      "Epoch 18, Time Used: 607 s, loss: 0.0011, acc: 98.9930\n",
      "18\n",
      "45894.0 46374\n",
      "Epoch 19, Time Used: 606 s, loss: 0.0011, acc: 98.9649\n",
      "19\n",
      "45897.0 46374\n",
      "Epoch 20, Time Used: 606 s, loss: 0.0011, acc: 98.9714\n",
      "20\n",
      "45871.0 46374\n",
      "Epoch 21, Time Used: 605 s, loss: 0.0012, acc: 98.9153\n",
      "21\n",
      "45894.0 46374\n",
      "Epoch 22, Time Used: 609 s, loss: 0.0011, acc: 98.9649\n",
      "22\n",
      "45893.0 46374\n",
      "Epoch 23, Time Used: 607 s, loss: 0.0011, acc: 98.9628\n",
      "23\n",
      "45886.0 46374\n",
      "Epoch 24, Time Used: 606 s, loss: 0.0011, acc: 98.9477\n",
      "24\n",
      "45879.0 46374\n",
      "Epoch 25, Time Used: 610 s, loss: 0.0012, acc: 98.9326\n",
      "Training Finished\n"
     ]
    }
   ],
   "source": [
    "model, training_losses, training_accs = TrainModel(ensemble_model, lossFun, optimizer, lrscheduler, n_epochs=25)"
   ]
  },
  {
   "cell_type": "code",
   "execution_count": 10,
   "id": "4d34f4fa",
   "metadata": {
    "execution": {
     "iopub.execute_input": "2022-12-01T17:03:38.461772Z",
     "iopub.status.busy": "2022-12-01T17:03:38.461010Z",
     "iopub.status.idle": "2022-12-01T17:03:39.474936Z",
     "shell.execute_reply": "2022-12-01T17:03:39.473915Z"
    },
    "papermill": {
     "duration": 1.021491,
     "end_time": "2022-12-01T17:03:39.477317",
     "exception": false,
     "start_time": "2022-12-01T17:03:38.455826",
     "status": "completed"
    },
    "tags": []
   },
   "outputs": [],
   "source": [
    "model.eval()\n",
    "torch.save(model, \"file.pt\")"
   ]
  }
 ],
 "metadata": {
  "kernelspec": {
   "display_name": "Python 3",
   "language": "python",
   "name": "python3"
  },
  "language_info": {
   "codemirror_mode": {
    "name": "ipython",
    "version": 3
   },
   "file_extension": ".py",
   "mimetype": "text/x-python",
   "name": "python",
   "nbconvert_exporter": "python",
   "pygments_lexer": "ipython3",
   "version": "3.7.12"
  },
  "papermill": {
   "default_parameters": {},
   "duration": 15298.728965,
   "end_time": "2022-12-01T17:03:40.925028",
   "environment_variables": {},
   "exception": null,
   "input_path": "__notebook__.ipynb",
   "output_path": "__notebook__.ipynb",
   "parameters": {},
   "start_time": "2022-12-01T12:48:42.196063",
   "version": "2.3.4"
  }
 },
 "nbformat": 4,
 "nbformat_minor": 5
}
