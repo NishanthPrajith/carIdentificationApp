{
 "cells": [
  {
   "cell_type": "code",
   "execution_count": 1,
   "id": "29408933",
   "metadata": {},
   "outputs": [],
   "source": [
    "import requests\n",
    "import pandas as pd\n",
    "import os\n",
    "\n",
    "import shutil\n",
    "\n",
    "import json"
   ]
  },
  {
   "cell_type": "code",
   "execution_count": 2,
   "id": "676e5df7",
   "metadata": {},
   "outputs": [],
   "source": [
    "df = pd.read_csv(\"car_list.csv\")"
   ]
  },
  {
   "cell_type": "code",
   "execution_count": 3,
   "id": "44aff1a6",
   "metadata": {},
   "outputs": [],
   "source": [
    "car_list = list(df['Make'] + \" \" + df['model'])"
   ]
  },
  {
   "cell_type": "code",
   "execution_count": 4,
   "id": "752cd044",
   "metadata": {},
   "outputs": [],
   "source": [
    "finalDirectory = \"C:\\\\Users\\\\nisha\\\\Desktop\\\\carAppFirebase\\\\finalDataset\"\n",
    "isdir = os.path.isdir(finalDirectory)\n",
    "if (isdir == False):\n",
    "    os.mkdir(finalDirectory)"
   ]
  },
  {
   "cell_type": "code",
   "execution_count": 5,
   "id": "776147a9",
   "metadata": {},
   "outputs": [],
   "source": [
    "hashMap = {}"
   ]
  },
  {
   "cell_type": "markdown",
   "id": "1932b79c",
   "metadata": {},
   "source": [
    "## Stanford Dataset"
   ]
  },
  {
   "cell_type": "code",
   "execution_count": 6,
   "id": "61f0ab6c",
   "metadata": {},
   "outputs": [
    {
     "name": "stdout",
     "output_type": "stream",
     "text": [
      "----------------------"
     ]
    }
   ],
   "source": [
    "mainDirectory = \"C:\\\\Users\\\\nisha\\\\Desktop\\\\carAppFirebase\\\\car_data\"\n",
    "os.chdir(mainDirectory)\n",
    "types = os.listdir()\n",
    "for t in types:\n",
    "    parent = mainDirectory + \"\\\\\" + t\n",
    "    os.chdir(parent)\n",
    "    makes = os.listdir()\n",
    "    \n",
    "    for make in makes:\n",
    "        temp = \"\"\n",
    "        for cars in car_list:\n",
    "            if cars in make.lower():\n",
    "                temp = cars\n",
    "                break\n",
    "                \n",
    "        if temp != \"\":\n",
    "            directory = parent + \"\\\\\" + make\n",
    "            os.chdir(directory)\n",
    "            images = os.listdir()\n",
    "            path = finalDirectory + \"\\\\\" + temp\n",
    "            \n",
    "            isdir = os.path.isdir(path)\n",
    "            \n",
    "            if (isdir == False):\n",
    "                os.mkdir(path)\n",
    "            \n",
    "            count = 0\n",
    "            for image in images:\n",
    "                old_name = image.split(\".\")\n",
    "                new_name = str(count) + \".\" + old_name[-1]\n",
    "                \n",
    "                destination = path + \"\\\\\" + new_name\n",
    "                \n",
    "                shutil.copy(new_name, destination)\n",
    "                count += 1\n",
    "                \n",
    "            hashMap[temp] = count\n",
    "            print(\"-\", end = \"\")"
   ]
  },
  {
   "cell_type": "code",
   "execution_count": 7,
   "id": "f435e709",
   "metadata": {},
   "outputs": [],
   "source": [
    "# including libs\n",
    "import numpy as np\n",
    "import cv2\n",
    "import random"
   ]
  },
  {
   "cell_type": "code",
   "execution_count": 8,
   "id": "1b8d128f",
   "metadata": {},
   "outputs": [],
   "source": [
    "MAKES = list(df['Make'])\n",
    "MODELS = list(df['model'])"
   ]
  },
  {
   "cell_type": "code",
   "execution_count": null,
   "id": "7e36c860",
   "metadata": {},
   "outputs": [],
   "source": []
  },
  {
   "cell_type": "code",
   "execution_count": 17,
   "id": "cc4d7d76",
   "metadata": {},
   "outputs": [],
   "source": [
    "# Function to change the background\n",
    "c = \"C:/Users/nisha/Desktop/carAppFirebase/StreetBgDataset/\"\n",
    "os.chdir(c)\n",
    "background = os.listdir()\n",
    "\n",
    "def changeImgBg(srcPath:str, destPath=\"\"):\n",
    "    # srcPath: path of the src image\n",
    "    # bgSrcPath: path of the background src image\n",
    "    # destPath: destination path\n",
    "    \n",
    "    bgSrcPath = c + background[random.randint(0, 124)]\n",
    "    \n",
    "    # read the src image\n",
    "    img = cv2.imread(srcPath)\n",
    "    \n",
    "    # get the mask image\n",
    "    lower_white = np.array([245,245,245]) \n",
    "    upper_white = np.array([255,255,255])\n",
    "    mask = cv2.inRange(img, lower_white, upper_white)\n",
    "    \n",
    "    # show the image without background\n",
    "    masked_img = np.copy(img)\n",
    "    masked_img[mask != 0] = [0, 0, 0]\n",
    "    \n",
    "    # read the new background image\n",
    "    bg_img = cv2.imread(bgSrcPath)\n",
    "    bg_img_resized = cv2.resize(bg_img, (300,300))\n",
    "    \n",
    "    corp_bg = np.copy(bg_img_resized)\n",
    "    corp_bg[mask == 0] = [0,0,0]\n",
    "    \n",
    "    # output image\n",
    "    output_img = corp_bg + masked_img\n",
    "    \n",
    "    # saving the output image\n",
    "    if destPath != \"\":\n",
    "        cv2.imwrite(destPath,output_img)\n",
    "    return output_img"
   ]
  },
  {
   "cell_type": "code",
   "execution_count": 18,
   "id": "68da0763",
   "metadata": {},
   "outputs": [
    {
     "name": "stdout",
     "output_type": "stream",
     "text": [
      "-------------------------------------------------------------------------------------------------------------------------------------------------------"
     ]
    }
   ],
   "source": [
    "mainDirectory = \"C:\\\\Users\\\\nisha\\\\Desktop\\\\carAppFirebase\\\\resized_DVM\"\n",
    "os.chdir(mainDirectory)\n",
    "makes = os.listdir()\n",
    "\n",
    "for make in makes:\n",
    "    temp = False\n",
    "    for cars in MAKES:\n",
    "        if make.lower() == cars:\n",
    "            temp = True\n",
    "            break\n",
    "    \n",
    "    if temp:\n",
    "        parent = mainDirectory + \"\\\\\" + make\n",
    "        os.chdir(parent)\n",
    "        models = os.listdir()\n",
    "\n",
    "        for model in models:\n",
    "            temp = -1\n",
    "            for i in range(len(MODELS)):\n",
    "                cars = MODELS[i]\n",
    "                if model.lower() in cars.lower():\n",
    "                    temp = i\n",
    "                    break\n",
    "            \n",
    "            if temp != -1:\n",
    "                parentTwo = parent + \"\\\\\" + model\n",
    "                os.chdir(parentTwo)\n",
    "                times = os.listdir()\n",
    "                \n",
    "                count = 0\n",
    "                \n",
    "                if car_list[temp] in hashMap:\n",
    "                    count = hashMap[car_list[temp]]\n",
    "                \n",
    "                for time in times:\n",
    "                    if int(time) > 2012:\n",
    "                        directory = parentTwo + \"\\\\\" + time\n",
    "                        os.chdir(directory)\n",
    "                        images = os.listdir()\n",
    "                        path = finalDirectory + \"\\\\\" + car_list[temp]\n",
    "\n",
    "                        isdir = os.path.isdir(path)\n",
    "\n",
    "                        if (isdir == False):\n",
    "                            os.mkdir(path)\n",
    "\n",
    "                        for image in images:\n",
    "                            old_name = image.split(\".\")\n",
    "                            new_name = str(count) + \".\" + old_name[-1]\n",
    "                            \n",
    "                            destination = path + \"\\\\\" + new_name\n",
    "                            source = directory + \"\\\\\" + image\n",
    "                            destination = destination.replace(\"\\\\\", \"/\")\n",
    "                            source = source.replace(\"\\\\\", \"/\")\n",
    "                            changeImgBg(source, destination)\n",
    "                            count += 1\n",
    "                            \n",
    "                    print(\"-\", end = \"\")\n",
    "                hashMap[car_list[temp]] = count"
   ]
  },
  {
   "cell_type": "markdown",
   "id": "cedd3afd",
   "metadata": {},
   "source": [
    "## Download Images"
   ]
  },
  {
   "cell_type": "markdown",
   "id": "34e9dfbe",
   "metadata": {},
   "source": [
    "### Remove excess images"
   ]
  },
  {
   "cell_type": "code",
   "execution_count": 14,
   "id": "53a4dde4",
   "metadata": {},
   "outputs": [
    {
     "name": "stdout",
     "output_type": "stream",
     "text": [
      "------"
     ]
    }
   ],
   "source": [
    "for cars in car_list:\n",
    "    path = finalDirectory + \"\\\\\" + cars\n",
    "    isdir = os.path.isdir(path)\n",
    "    if isdir:\n",
    "        os.chdir(path)\n",
    "        images = os.listdir()\n",
    "        size = len(images)\n",
    "        if len(images) > 1500:\n",
    "            for image in images:\n",
    "                if size > 1500:\n",
    "                    for years in ['2013', '2014', '2015', '2016', '2017', '2018', '2019']:\n",
    "                        if years in image:\n",
    "                            os.remove(path + \"\\\\\" + image)\n",
    "                            size -= 1\n",
    "                            break\n",
    "            print(\"-\", end = \"\")"
   ]
  },
  {
   "cell_type": "markdown",
   "id": "fb22028c",
   "metadata": {},
   "source": [
    "### Download using google downloader"
   ]
  },
  {
   "cell_type": "markdown",
   "id": "025c6c4f",
   "metadata": {},
   "source": [
    "This code needs to run on google colab notebook. It for me does not work locally."
   ]
  },
  {
   "cell_type": "markdown",
   "id": "cd4bcad2",
   "metadata": {},
   "source": [
    "### Merge images downloaded by google downloader"
   ]
  },
  {
   "cell_type": "code",
   "execution_count": 19,
   "id": "bb3ca688",
   "metadata": {},
   "outputs": [
    {
     "name": "stdout",
     "output_type": "stream",
     "text": [
      "----------------------"
     ]
    }
   ],
   "source": [
    "mainDirectory = \"C:\\\\Users\\\\nisha\\\\Desktop\\\\carAppFirebase\\\\downloads\"\n",
    "os.chdir(mainDirectory)\n",
    "makes = os.listdir()\n",
    "\n",
    "for make in makes:\n",
    "    if make != \"apple\" and make != \".ipynb_checkpoints\":\n",
    "        direc = \"C:\\\\Users\\\\nisha\\\\Desktop\\\\carAppFirebase\\\\downloads\" + \"\\\\\" + make\n",
    "        os.chdir(direc)\n",
    "        images = os.listdir()\n",
    "        \n",
    "        path = finalDirectory + \"\\\\\" + make\n",
    "        isdir = os.path.isdir(path)\n",
    "\n",
    "        if (isdir == False):\n",
    "            os.mkdir(path)\n",
    "            \n",
    "        count = 0\n",
    "\n",
    "        if make in hashMap:\n",
    "            count = hashMap[make]\n",
    "            \n",
    "        for image in images:\n",
    "            if image[-4:] != \"webp\":\n",
    "                old_name = image.split(\".\")\n",
    "                new_name = str(count) + \".\" + old_name[-1]\n",
    "                \n",
    "                destination = path + \"\\\\\" + new_name\n",
    "                shutil.copy(image, destination)\n",
    "                count += 1\n",
    "        print(\"-\", end = \"\")"
   ]
  },
  {
   "cell_type": "code",
   "execution_count": 20,
   "id": "f7e15777",
   "metadata": {},
   "outputs": [
    {
     "name": "stdout",
     "output_type": "stream",
     "text": [
      "toyota sienna 232\n",
      "jeep cherokee 761\n",
      "ford focus SE 11836\n",
      "honda civic 1651\n",
      "honda accord 280\n",
      "ford mustang GT 2083\n",
      "chevrolet camaro SS 276\n",
      "chevrolet corvette 329\n",
      "toyota rav4 1954\n",
      "toyota camry 276\n",
      "toyota corolla 281\n",
      "mercedes-benz g-class 304\n",
      "mercedes-benz s-class sedan 216\n",
      "mercedes-benz g-class amg 281\n",
      "bmw 3 series sedan 1657\n",
      "bmw 5 series sedan 3838\n",
      "bmw m3 1060\n",
      "bmw x3 4052\n",
      "porsche 911 Turbo 4880\n",
      "tesla model X 255\n",
      "tesla model Y 171\n",
      "tesla model 3 128\n",
      "tesla model S 482\n"
     ]
    }
   ],
   "source": [
    "for cars in car_list:\n",
    "    path = finalDirectory + \"\\\\\" + cars\n",
    "    isdir = os.path.isdir(path)\n",
    "    if isdir:\n",
    "        os.chdir(path)\n",
    "        images = os.listdir()\n",
    "        print(cars, len(images))"
   ]
  },
  {
   "cell_type": "code",
   "execution_count": 21,
   "id": "a8c87979",
   "metadata": {},
   "outputs": [],
   "source": [
    "import random\n",
    "\n",
    "mainDirectory = \"C:\\\\Users\\\\nisha\\\\Desktop\\\\carAppFirebase\\\\finalDataset\"\n",
    "os.chdir(mainDirectory)\n",
    "makes = os.listdir()\n",
    "for make in makes:\n",
    "    direc = mainDirectory + \"\\\\\" + make\n",
    "    os.chdir(direc)\n",
    "    images = os.listdir()\n",
    "    d = len(images)\n",
    "    if (d > 1000):\n",
    "        diff = d - 1000\n",
    "        while (diff):\n",
    "            images = os.listdir()\n",
    "            a = random.randint(0, len(images) - 1)\n",
    "            os.remove(direc + \"\\\\\" + images[a])\n",
    "            diff -= 1"
   ]
  },
  {
   "cell_type": "code",
   "execution_count": 22,
   "id": "0166c653",
   "metadata": {},
   "outputs": [
    {
     "name": "stdout",
     "output_type": "stream",
     "text": [
      "bmw 3 series sedan 1000\n",
      "bmw 5 series sedan 1000\n",
      "bmw m3 1000\n",
      "bmw x3 1000\n",
      "chevrolet camaro SS 276\n",
      "chevrolet corvette 329\n",
      "ford focus SE 1000\n",
      "ford mustang GT 1000\n",
      "honda accord 280\n",
      "honda civic 1000\n",
      "jeep cherokee 761\n",
      "mercedes-benz g-class 304\n",
      "mercedes-benz g-class amg 281\n",
      "mercedes-benz s-class sedan 216\n",
      "porsche 911 Turbo 1000\n",
      "tesla model 3 128\n",
      "tesla model S 482\n",
      "tesla model X 255\n",
      "tesla model Y 171\n",
      "toyota camry 276\n",
      "toyota corolla 281\n",
      "toyota rav4 1000\n",
      "toyota sienna 232\n"
     ]
    }
   ],
   "source": [
    "mainDirectory = \"C:\\\\Users\\\\nisha\\\\Desktop\\\\carAppFirebase\\\\finalDataset\"\n",
    "os.chdir(mainDirectory)\n",
    "makes = os.listdir()\n",
    "for make in makes:\n",
    "    direc = mainDirectory + \"\\\\\" + make\n",
    "    os.chdir(direc)\n",
    "    images = os.listdir()\n",
    "    print(make, len(images))"
   ]
  },
  {
   "cell_type": "code",
   "execution_count": null,
   "id": "f1a783d0",
   "metadata": {},
   "outputs": [],
   "source": []
  }
 ],
 "metadata": {
  "kernelspec": {
   "display_name": "Python 3 (ipykernel)",
   "language": "python",
   "name": "python3"
  },
  "language_info": {
   "codemirror_mode": {
    "name": "ipython",
    "version": 3
   },
   "file_extension": ".py",
   "mimetype": "text/x-python",
   "name": "python",
   "nbconvert_exporter": "python",
   "pygments_lexer": "ipython3",
   "version": "3.10.4"
  }
 },
 "nbformat": 4,
 "nbformat_minor": 5
}
